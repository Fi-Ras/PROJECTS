{
  "nbformat": 4,
  "nbformat_minor": 0,
  "metadata": {
    "colab": {
      "provenance": []
    },
    "kernelspec": {
      "name": "python3",
      "display_name": "Python 3"
    },
    "language_info": {
      "name": "python"
    }
  },
  "cells": [
    {
      "cell_type": "markdown",
      "source": [
        "Does going to university in a different country affect your mental health? A Japanese international university surveyed its students in 2018 and published a study the following year that was approved by several ethical and regulatory boards.\n",
        "\n",
        "The study found that international students have a higher risk of mental health difficulties than the general population, and that social connectedness (belonging to a social group) and acculturative stress (stress associated with joining a new culture) are predictive of depression.\n",
        "\n",
        "Explore the students data using PostgreSQL to find out if you would come to a similar conclusion for international students and see if the length of stay is a contributing factor.\n",
        "\n",
        "-----------------------------------------------------------------------\n",
        "\n",
        "###Field Name\tDescription\n",
        "####inter_dom\tTypes of students (international or domestic)\n",
        "####japanese_cate\tJapanese language proficiency\n",
        "####english_cate\tEnglish language proficiency\n",
        "####academic\tCurrent academic level (undergraduate or graduate)\n",
        "####age\tCurrent age of student\n",
        "####stay\tCurrent length of stay in years\n",
        "####todep\tTotal score of depression (PHQ-9 test)\n",
        "####tosc\tTotal score of social connectedness (SCS test)\n",
        "####toas\tTotal score of acculturative stress (ASISS test)"
      ],
      "metadata": {
        "id": "wsd8DRlA2NLx"
      }
    },
    {
      "cell_type": "markdown",
      "source": [
        " # Start the Spark activation process"
      ],
      "metadata": {
        "id": "Q0AE5NnB3TYo"
      }
    },
    {
      "cell_type": "code",
      "source": [
        "# Install OpenJDK 8 (Java Development Kit) without displaying output messages\n",
        "!apt-get install openjdk-8-jdk-headless -qq > /dev/null\n",
        "\n",
        "# Download Spark version 3.1.1 along with Hadoop 3.2 binaries without displaying output messages\n",
        "!wget -q http://archive.apache.org/dist/spark/spark-3.1.1/spark-3.1.1-bin-hadoop3.2.tgz\n",
        "\n",
        "# Extract the downloaded Spark archive without displaying output messages\n",
        "!tar xf spark-3.1.1-bin-hadoop3.2.tgz\n",
        "\n",
        "# Install the findspark library quietly (without displaying output messages)\n",
        "!pip install -q findspark"
      ],
      "metadata": {
        "id": "z1I5Kt753UpM"
      },
      "execution_count": 1,
      "outputs": []
    },
    {
      "cell_type": "code",
      "source": [
        "# Import os libraries\n",
        "import pandas as pd\n",
        "import os\n",
        "import findspark\n",
        "import matplotlib.pyplot as plt\n",
        "\n",
        "# Set the environment variable \"JAVA_HOME\" to the path of the installed OpenJDK 8\n",
        "os.environ[\"JAVA_HOME\"] = \"/usr/lib/jvm/java-8-openjdk-amd64\"\n",
        "# Set the environment variable \"SPARK_HOME\" to the path of the extracted Spark 3.1.1 binaries\n",
        "os.environ[\"SPARK_HOME\"] = \"/content/spark-3.1.1-bin-hadoop3.2\"\n",
        "\n",
        "# Initialize findspark to automatically set the Spark-related environment variables\n",
        "findspark.init()\n",
        "# Import the SparkSession class from the pyspark.sql module\n",
        "from pyspark.sql import SparkSession\n",
        "from pyspark.sql.functions import round"
      ],
      "metadata": {
        "id": "qkz64vAK2lAE"
      },
      "execution_count": 2,
      "outputs": []
    },
    {
      "cell_type": "markdown",
      "source": [
        "# Create a SparkSession and show Spark functionalities"
      ],
      "metadata": {
        "id": "YDzWPwQL7Omx"
      }
    },
    {
      "cell_type": "code",
      "source": [
        "# Create a SparkSession with a local master and \"*\" as the number of worker threads\n",
        "spark = SparkSession.builder.master(\"local[*]\").getOrCreate()\n",
        "\n",
        "# Enable eager evaluation for Spark SQL REPL (Read-Eval-Print Loop) for better output table formatting\n",
        "spark.conf.set(\"spark.sql.repl.eagerEval.enabled\", True)\n",
        "\n",
        "# Display the SparkSession object, which provides access to Spark functionality\n",
        "spark"
      ],
      "metadata": {
        "colab": {
          "base_uri": "https://localhost:8080/",
          "height": 219
        },
        "id": "BRc7duBk3xQO",
        "outputId": "e725ef9b-e54c-4262-f0ce-c2ef33e385f4"
      },
      "execution_count": 3,
      "outputs": [
        {
          "output_type": "execute_result",
          "data": {
            "text/plain": [
              "<pyspark.sql.session.SparkSession at 0x7bca1af09900>"
            ],
            "text/html": [
              "\n",
              "            <div>\n",
              "                <p><b>SparkSession - in-memory</b></p>\n",
              "                \n",
              "        <div>\n",
              "            <p><b>SparkContext</b></p>\n",
              "\n",
              "            <p><a href=\"http://f8894b97022a:4040\">Spark UI</a></p>\n",
              "\n",
              "            <dl>\n",
              "              <dt>Version</dt>\n",
              "                <dd><code>v3.1.1</code></dd>\n",
              "              <dt>Master</dt>\n",
              "                <dd><code>local[*]</code></dd>\n",
              "              <dt>AppName</dt>\n",
              "                <dd><code>pyspark-shell</code></dd>\n",
              "            </dl>\n",
              "        </div>\n",
              "        \n",
              "            </div>\n",
              "        "
            ]
          },
          "metadata": {},
          "execution_count": 3
        }
      ]
    },
    {
      "cell_type": "markdown",
      "source": [
        "# Load a DataFrame DF"
      ],
      "metadata": {
        "id": "50TAtmLa7bSf"
      }
    },
    {
      "cell_type": "code",
      "source": [
        "# Load the student.csv into a dataframe\n",
        "s = spark.read.csv(\"students.csv\", header=True, inferSchema=True)"
      ],
      "metadata": {
        "id": "i7HPDxD34s6X"
      },
      "execution_count": 4,
      "outputs": []
    },
    {
      "cell_type": "code",
      "source": [
        "#Show informations of the DF\n",
        "s.printSchema()"
      ],
      "metadata": {
        "colab": {
          "base_uri": "https://localhost:8080/"
        },
        "id": "SstHKOXX-10H",
        "outputId": "ec97907c-2732-4af1-97e5-0d123a235e51"
      },
      "execution_count": 5,
      "outputs": [
        {
          "output_type": "stream",
          "name": "stdout",
          "text": [
            "root\n",
            " |-- inter_dom: string (nullable = true)\n",
            " |-- region: string (nullable = true)\n",
            " |-- gender: string (nullable = true)\n",
            " |-- academic: string (nullable = true)\n",
            " |-- age: integer (nullable = true)\n",
            " |-- age_cate: integer (nullable = true)\n",
            " |-- stay: integer (nullable = true)\n",
            " |-- stay_cate: string (nullable = true)\n",
            " |-- japanese: integer (nullable = true)\n",
            " |-- japanese_cate: string (nullable = true)\n",
            " |-- english: integer (nullable = true)\n",
            " |-- english_cate: string (nullable = true)\n",
            " |-- intimate: string (nullable = true)\n",
            " |-- religion: string (nullable = true)\n",
            " |-- suicide: string (nullable = true)\n",
            " |-- dep: string (nullable = true)\n",
            " |-- deptype: string (nullable = true)\n",
            " |-- todep: integer (nullable = true)\n",
            " |-- depsev: string (nullable = true)\n",
            " |-- tosc: integer (nullable = true)\n",
            " |-- apd: integer (nullable = true)\n",
            " |-- ahome: integer (nullable = true)\n",
            " |-- aph: integer (nullable = true)\n",
            " |-- afear: integer (nullable = true)\n",
            " |-- acs: integer (nullable = true)\n",
            " |-- aguilt: integer (nullable = true)\n",
            " |-- amiscell: integer (nullable = true)\n",
            " |-- toas: integer (nullable = true)\n",
            " |-- partner: integer (nullable = true)\n",
            " |-- friends: integer (nullable = true)\n",
            " |-- parents: integer (nullable = true)\n",
            " |-- relative: integer (nullable = true)\n",
            " |-- profess: integer (nullable = true)\n",
            " |--  phone: integer (nullable = true)\n",
            " |-- doctor: integer (nullable = true)\n",
            " |-- reli: integer (nullable = true)\n",
            " |-- alone: integer (nullable = true)\n",
            " |-- others: integer (nullable = true)\n",
            " |-- internet: integer (nullable = true)\n",
            " |-- partner_bi: string (nullable = true)\n",
            " |-- friends_bi: string (nullable = true)\n",
            " |-- parents_bi: string (nullable = true)\n",
            " |-- relative_bi: string (nullable = true)\n",
            " |-- professional_bi: string (nullable = true)\n",
            " |-- phone_bi: string (nullable = true)\n",
            " |-- doctor_bi: string (nullable = true)\n",
            " |-- religion_bi: string (nullable = true)\n",
            " |-- alone_bi: string (nullable = true)\n",
            " |-- others_bi: string (nullable = true)\n",
            " |-- internet_bi: string (nullable = true)\n",
            "\n"
          ]
        }
      ]
    },
    {
      "cell_type": "code",
      "source": [
        "#Show the first 5 lines of the DataFrame using Spark\n",
        "s.show(5)"
      ],
      "metadata": {
        "colab": {
          "base_uri": "https://localhost:8080/"
        },
        "id": "4dh2b9-p5xJe",
        "outputId": "d11f0c5e-0bc2-4d7b-8d63-2076c9690183"
      },
      "execution_count": 6,
      "outputs": [
        {
          "output_type": "stream",
          "name": "stdout",
          "text": [
            "+---------+------+------+--------+---+--------+----+---------+--------+-------------+-------+------------+--------+--------+-------+---+-------+-----+------+----+---+-----+---+-----+---+------+--------+----+-------+-------+-------+--------+-------+------+------+----+-----+------+--------+----------+----------+----------+-----------+---------------+--------+---------+-----------+--------+---------+-----------+\n",
            "|inter_dom|region|gender|academic|age|age_cate|stay|stay_cate|japanese|japanese_cate|english|english_cate|intimate|religion|suicide|dep|deptype|todep|depsev|tosc|apd|ahome|aph|afear|acs|aguilt|amiscell|toas|partner|friends|parents|relative|profess| phone|doctor|reli|alone|others|internet|partner_bi|friends_bi|parents_bi|relative_bi|professional_bi|phone_bi|doctor_bi|religion_bi|alone_bi|others_bi|internet_bi|\n",
            "+---------+------+------+--------+---+--------+----+---------+--------+-------------+-------+------------+--------+--------+-------+---+-------+-----+------+----+---+-----+---+-----+---+------+--------+----+-------+-------+-------+--------+-------+------+------+----+-----+------+--------+----------+----------+----------+-----------+---------------+--------+---------+-----------+--------+---------+-----------+\n",
            "|    Inter|   SEA|  Male|    Grad| 24|       4|   5|     Long|       3|      Average|      5|        High|    null|     Yes|     No| No|     No|    0|   Min|  34| 23|    9| 11|    8| 11|     2|      27|  91|      5|      5|      6|       3|      2|     1|     4|   1|    3|     4|    null|       Yes|       Yes|       Yes|         No|             No|      No|       No|         No|      No|       No|         No|\n",
            "|    Inter|   SEA|  Male|    Grad| 28|       5|   1|    Short|       4|         High|      4|        High|    null|      No|     No| No|     No|    2|   Min|  48|  8|    7|  5|    4|  3|     2|      10|  39|      7|      7|      7|       4|      4|     4|     4|   1|    1|     1|    null|       Yes|       Yes|       Yes|         No|             No|      No|       No|         No|      No|       No|         No|\n",
            "|    Inter|   SEA|  Male|    Grad| 25|       4|   6|     Long|       4|         High|      4|        High|     Yes|     Yes|     No| No|     No|    2|   Min|  41| 13|    4|  7|    6|  4|     3|      14|  51|      3|      3|      3|       1|      1|     2|     1|   1|    1|     1|    null|        No|        No|        No|         No|             No|      No|       No|         No|      No|       No|         No|\n",
            "|    Inter|    EA|Female|    Grad| 29|       5|   1|    Short|       2|          Low|      3|     Average|      No|      No|     No| No|     No|    3|   Min|  37| 16|   10| 10|    8|  6|     4|      21|  75|      5|      5|      5|       5|      5|     2|     2|   2|    4|     4|    null|       Yes|       Yes|       Yes|        Yes|            Yes|      No|       No|         No|      No|       No|         No|\n",
            "|    Inter|    EA|Female|    Grad| 28|       5|   1|    Short|       1|          Low|      3|     Average|     Yes|      No|     No| No|     No|    3|   Min|  37| 15|   12|  5|    8|  7|     4|      31|  82|      5|      5|      5|       2|      5|     2|     5|   5|    4|     4|    null|       Yes|       Yes|       Yes|         No|            Yes|      No|      Yes|        Yes|      No|       No|         No|\n",
            "+---------+------+------+--------+---+--------+----+---------+--------+-------------+-------+------------+--------+--------+-------+---+-------+-----+------+----+---+-----+---+-----+---+------+--------+----+-------+-------+-------+--------+-------+------+------+----+-----+------+--------+----------+----------+----------+-----------+---------------+--------+---------+-----------+--------+---------+-----------+\n",
            "only showing top 5 rows\n",
            "\n"
          ]
        }
      ]
    },
    {
      "cell_type": "code",
      "source": [
        "#Show the first 5 lines of the DataFrame using Spark\n",
        "s.limit(5)"
      ],
      "metadata": {
        "colab": {
          "base_uri": "https://localhost:8080/",
          "height": 176
        },
        "id": "a9zVndYn8dmI",
        "outputId": "979a7280-70f0-4e88-febb-2bdf9ba5228d"
      },
      "execution_count": 7,
      "outputs": [
        {
          "output_type": "execute_result",
          "data": {
            "text/plain": [
              "+---------+------+------+--------+---+--------+----+---------+--------+-------------+-------+------------+--------+--------+-------+---+-------+-----+------+----+---+-----+---+-----+---+------+--------+----+-------+-------+-------+--------+-------+------+------+----+-----+------+--------+----------+----------+----------+-----------+---------------+--------+---------+-----------+--------+---------+-----------+\n",
              "|inter_dom|region|gender|academic|age|age_cate|stay|stay_cate|japanese|japanese_cate|english|english_cate|intimate|religion|suicide|dep|deptype|todep|depsev|tosc|apd|ahome|aph|afear|acs|aguilt|amiscell|toas|partner|friends|parents|relative|profess| phone|doctor|reli|alone|others|internet|partner_bi|friends_bi|parents_bi|relative_bi|professional_bi|phone_bi|doctor_bi|religion_bi|alone_bi|others_bi|internet_bi|\n",
              "+---------+------+------+--------+---+--------+----+---------+--------+-------------+-------+------------+--------+--------+-------+---+-------+-----+------+----+---+-----+---+-----+---+------+--------+----+-------+-------+-------+--------+-------+------+------+----+-----+------+--------+----------+----------+----------+-----------+---------------+--------+---------+-----------+--------+---------+-----------+\n",
              "|    Inter|   SEA|  Male|    Grad| 24|       4|   5|     Long|       3|      Average|      5|        High|    null|     Yes|     No| No|     No|    0|   Min|  34| 23|    9| 11|    8| 11|     2|      27|  91|      5|      5|      6|       3|      2|     1|     4|   1|    3|     4|    null|       Yes|       Yes|       Yes|         No|             No|      No|       No|         No|      No|       No|         No|\n",
              "|    Inter|   SEA|  Male|    Grad| 28|       5|   1|    Short|       4|         High|      4|        High|    null|      No|     No| No|     No|    2|   Min|  48|  8|    7|  5|    4|  3|     2|      10|  39|      7|      7|      7|       4|      4|     4|     4|   1|    1|     1|    null|       Yes|       Yes|       Yes|         No|             No|      No|       No|         No|      No|       No|         No|\n",
              "|    Inter|   SEA|  Male|    Grad| 25|       4|   6|     Long|       4|         High|      4|        High|     Yes|     Yes|     No| No|     No|    2|   Min|  41| 13|    4|  7|    6|  4|     3|      14|  51|      3|      3|      3|       1|      1|     2|     1|   1|    1|     1|    null|        No|        No|        No|         No|             No|      No|       No|         No|      No|       No|         No|\n",
              "|    Inter|    EA|Female|    Grad| 29|       5|   1|    Short|       2|          Low|      3|     Average|      No|      No|     No| No|     No|    3|   Min|  37| 16|   10| 10|    8|  6|     4|      21|  75|      5|      5|      5|       5|      5|     2|     2|   2|    4|     4|    null|       Yes|       Yes|       Yes|        Yes|            Yes|      No|       No|         No|      No|       No|         No|\n",
              "|    Inter|    EA|Female|    Grad| 28|       5|   1|    Short|       1|          Low|      3|     Average|     Yes|      No|     No| No|     No|    3|   Min|  37| 15|   12|  5|    8|  7|     4|      31|  82|      5|      5|      5|       2|      5|     2|     5|   5|    4|     4|    null|       Yes|       Yes|       Yes|         No|            Yes|      No|      Yes|        Yes|      No|       No|         No|\n",
              "+---------+------+------+--------+---+--------+----+---------+--------+-------------+-------+------------+--------+--------+-------+---+-------+-----+------+----+---+-----+---+-----+---+------+--------+----+-------+-------+-------+--------+-------+------+------+----+-----+------+--------+----------+----------+----------+-----------+---------------+--------+---------+-----------+--------+---------+-----------+"
            ],
            "text/html": [
              "<table border='1'>\n",
              "<tr><th>inter_dom</th><th>region</th><th>gender</th><th>academic</th><th>age</th><th>age_cate</th><th>stay</th><th>stay_cate</th><th>japanese</th><th>japanese_cate</th><th>english</th><th>english_cate</th><th>intimate</th><th>religion</th><th>suicide</th><th>dep</th><th>deptype</th><th>todep</th><th>depsev</th><th>tosc</th><th>apd</th><th>ahome</th><th>aph</th><th>afear</th><th>acs</th><th>aguilt</th><th>amiscell</th><th>toas</th><th>partner</th><th>friends</th><th>parents</th><th>relative</th><th>profess</th><th> phone</th><th>doctor</th><th>reli</th><th>alone</th><th>others</th><th>internet</th><th>partner_bi</th><th>friends_bi</th><th>parents_bi</th><th>relative_bi</th><th>professional_bi</th><th>phone_bi</th><th>doctor_bi</th><th>religion_bi</th><th>alone_bi</th><th>others_bi</th><th>internet_bi</th></tr>\n",
              "<tr><td>Inter</td><td>SEA</td><td>Male</td><td>Grad</td><td>24</td><td>4</td><td>5</td><td>Long</td><td>3</td><td>Average</td><td>5</td><td>High</td><td>null</td><td>Yes</td><td>No</td><td>No</td><td>No</td><td>0</td><td>Min</td><td>34</td><td>23</td><td>9</td><td>11</td><td>8</td><td>11</td><td>2</td><td>27</td><td>91</td><td>5</td><td>5</td><td>6</td><td>3</td><td>2</td><td>1</td><td>4</td><td>1</td><td>3</td><td>4</td><td>null</td><td>Yes</td><td>Yes</td><td>Yes</td><td>No</td><td>No</td><td>No</td><td>No</td><td>No</td><td>No</td><td>No</td><td>No</td></tr>\n",
              "<tr><td>Inter</td><td>SEA</td><td>Male</td><td>Grad</td><td>28</td><td>5</td><td>1</td><td>Short</td><td>4</td><td>High</td><td>4</td><td>High</td><td>null</td><td>No</td><td>No</td><td>No</td><td>No</td><td>2</td><td>Min</td><td>48</td><td>8</td><td>7</td><td>5</td><td>4</td><td>3</td><td>2</td><td>10</td><td>39</td><td>7</td><td>7</td><td>7</td><td>4</td><td>4</td><td>4</td><td>4</td><td>1</td><td>1</td><td>1</td><td>null</td><td>Yes</td><td>Yes</td><td>Yes</td><td>No</td><td>No</td><td>No</td><td>No</td><td>No</td><td>No</td><td>No</td><td>No</td></tr>\n",
              "<tr><td>Inter</td><td>SEA</td><td>Male</td><td>Grad</td><td>25</td><td>4</td><td>6</td><td>Long</td><td>4</td><td>High</td><td>4</td><td>High</td><td>Yes</td><td>Yes</td><td>No</td><td>No</td><td>No</td><td>2</td><td>Min</td><td>41</td><td>13</td><td>4</td><td>7</td><td>6</td><td>4</td><td>3</td><td>14</td><td>51</td><td>3</td><td>3</td><td>3</td><td>1</td><td>1</td><td>2</td><td>1</td><td>1</td><td>1</td><td>1</td><td>null</td><td>No</td><td>No</td><td>No</td><td>No</td><td>No</td><td>No</td><td>No</td><td>No</td><td>No</td><td>No</td><td>No</td></tr>\n",
              "<tr><td>Inter</td><td>EA</td><td>Female</td><td>Grad</td><td>29</td><td>5</td><td>1</td><td>Short</td><td>2</td><td>Low</td><td>3</td><td>Average</td><td>No</td><td>No</td><td>No</td><td>No</td><td>No</td><td>3</td><td>Min</td><td>37</td><td>16</td><td>10</td><td>10</td><td>8</td><td>6</td><td>4</td><td>21</td><td>75</td><td>5</td><td>5</td><td>5</td><td>5</td><td>5</td><td>2</td><td>2</td><td>2</td><td>4</td><td>4</td><td>null</td><td>Yes</td><td>Yes</td><td>Yes</td><td>Yes</td><td>Yes</td><td>No</td><td>No</td><td>No</td><td>No</td><td>No</td><td>No</td></tr>\n",
              "<tr><td>Inter</td><td>EA</td><td>Female</td><td>Grad</td><td>28</td><td>5</td><td>1</td><td>Short</td><td>1</td><td>Low</td><td>3</td><td>Average</td><td>Yes</td><td>No</td><td>No</td><td>No</td><td>No</td><td>3</td><td>Min</td><td>37</td><td>15</td><td>12</td><td>5</td><td>8</td><td>7</td><td>4</td><td>31</td><td>82</td><td>5</td><td>5</td><td>5</td><td>2</td><td>5</td><td>2</td><td>5</td><td>5</td><td>4</td><td>4</td><td>null</td><td>Yes</td><td>Yes</td><td>Yes</td><td>No</td><td>Yes</td><td>No</td><td>Yes</td><td>Yes</td><td>No</td><td>No</td><td>No</td></tr>\n",
              "</table>\n"
            ]
          },
          "metadata": {},
          "execution_count": 7
        }
      ]
    },
    {
      "cell_type": "code",
      "source": [
        "#Show Columns names\n",
        "s.columns"
      ],
      "metadata": {
        "colab": {
          "base_uri": "https://localhost:8080/"
        },
        "id": "D0pOkROh5vjb",
        "outputId": "547ef2f6-a179-4a7d-e98a-45a3ed38279c"
      },
      "execution_count": 8,
      "outputs": [
        {
          "output_type": "execute_result",
          "data": {
            "text/plain": [
              "['inter_dom',\n",
              " 'region',\n",
              " 'gender',\n",
              " 'academic',\n",
              " 'age',\n",
              " 'age_cate',\n",
              " 'stay',\n",
              " 'stay_cate',\n",
              " 'japanese',\n",
              " 'japanese_cate',\n",
              " 'english',\n",
              " 'english_cate',\n",
              " 'intimate',\n",
              " 'religion',\n",
              " 'suicide',\n",
              " 'dep',\n",
              " 'deptype',\n",
              " 'todep',\n",
              " 'depsev',\n",
              " 'tosc',\n",
              " 'apd',\n",
              " 'ahome',\n",
              " 'aph',\n",
              " 'afear',\n",
              " 'acs',\n",
              " 'aguilt',\n",
              " 'amiscell',\n",
              " 'toas',\n",
              " 'partner',\n",
              " 'friends',\n",
              " 'parents',\n",
              " 'relative',\n",
              " 'profess',\n",
              " ' phone',\n",
              " 'doctor',\n",
              " 'reli',\n",
              " 'alone',\n",
              " 'others',\n",
              " 'internet',\n",
              " 'partner_bi',\n",
              " 'friends_bi',\n",
              " 'parents_bi',\n",
              " 'relative_bi',\n",
              " 'professional_bi',\n",
              " 'phone_bi',\n",
              " 'doctor_bi',\n",
              " 'religion_bi',\n",
              " 'alone_bi',\n",
              " 'others_bi',\n",
              " 'internet_bi']"
            ]
          },
          "metadata": {},
          "execution_count": 8
        }
      ]
    },
    {
      "cell_type": "code",
      "source": [
        "#Show test columns : todep / tosc / toas\n",
        "s.select('todep', 'tosc', 'toas').show()"
      ],
      "metadata": {
        "colab": {
          "base_uri": "https://localhost:8080/"
        },
        "id": "F1VwBdYD_Fz9",
        "outputId": "f3f2778f-b45a-45e9-9e00-a67276fd8159"
      },
      "execution_count": 9,
      "outputs": [
        {
          "output_type": "stream",
          "name": "stdout",
          "text": [
            "+-----+----+----+\n",
            "|todep|tosc|toas|\n",
            "+-----+----+----+\n",
            "|    0|  34|  91|\n",
            "|    2|  48|  39|\n",
            "|    2|  41|  51|\n",
            "|    3|  37|  75|\n",
            "|    3|  37|  82|\n",
            "|    6|  38|  83|\n",
            "|    3|  46|  58|\n",
            "|    9|  41| 127|\n",
            "|    7|  36| 109|\n",
            "|    3|  48|  51|\n",
            "|    5|  32|  92|\n",
            "|    8|  47|  95|\n",
            "|    1|  48|  54|\n",
            "|    3|  32|  57|\n",
            "|    9|  31| 112|\n",
            "|    6|  40|  74|\n",
            "|    3|  48|  63|\n",
            "|    3|  48|  47|\n",
            "|    7|  44|  55|\n",
            "|    1|  36|  60|\n",
            "+-----+----+----+\n",
            "only showing top 20 rows\n",
            "\n"
          ]
        }
      ]
    },
    {
      "cell_type": "markdown",
      "source": [
        "# Show some Statistics using Spark"
      ],
      "metadata": {
        "id": "WnJ59qwWCrxR"
      }
    },
    {
      "cell_type": "code",
      "source": [
        "# Show Max of todep\n",
        "s.agg({'todep':'max'}).show()"
      ],
      "metadata": {
        "colab": {
          "base_uri": "https://localhost:8080/"
        },
        "id": "-2ttc8dEBOwm",
        "outputId": "7513228e-a2e8-4141-ea0d-179321a939b1"
      },
      "execution_count": 10,
      "outputs": [
        {
          "output_type": "stream",
          "name": "stdout",
          "text": [
            "+----------+\n",
            "|max(todep)|\n",
            "+----------+\n",
            "|        25|\n",
            "+----------+\n",
            "\n"
          ]
        }
      ]
    },
    {
      "cell_type": "code",
      "source": [
        "# Show Min of todep\n",
        "s.agg({'todep':'min'}).show()"
      ],
      "metadata": {
        "colab": {
          "base_uri": "https://localhost:8080/"
        },
        "id": "avk3C6GoBVzi",
        "outputId": "52695d1f-f4ec-4913-b359-0f80f1009061"
      },
      "execution_count": 11,
      "outputs": [
        {
          "output_type": "stream",
          "name": "stdout",
          "text": [
            "+----------+\n",
            "|min(todep)|\n",
            "+----------+\n",
            "|         0|\n",
            "+----------+\n",
            "\n"
          ]
        }
      ]
    },
    {
      "cell_type": "code",
      "source": [
        "# Show Avg of todep\n",
        "s.agg({'todep':'avg'}).show()"
      ],
      "metadata": {
        "colab": {
          "base_uri": "https://localhost:8080/"
        },
        "id": "zW1-03ZDCc_y",
        "outputId": "67a7adb3-412c-4b10-c744-eca66ef74faf"
      },
      "execution_count": 12,
      "outputs": [
        {
          "output_type": "stream",
          "name": "stdout",
          "text": [
            "+-----------------+\n",
            "|       avg(todep)|\n",
            "+-----------------+\n",
            "|8.186567164179104|\n",
            "+-----------------+\n",
            "\n"
          ]
        }
      ]
    },
    {
      "cell_type": "code",
      "source": [
        "# Round the AVG value\n",
        "avg_todep = s.agg({'todep': 'avg'})\n",
        "round_avg = avg_todep.withColumn('avg(todep)', round(avg_todep['avg(todep)'], 2))\n",
        "round_avg.show()"
      ],
      "metadata": {
        "colab": {
          "base_uri": "https://localhost:8080/"
        },
        "id": "1gpUT4R2CgQn",
        "outputId": "75e0eb81-55e4-494b-eb11-9a7abbaecbfe"
      },
      "execution_count": 13,
      "outputs": [
        {
          "output_type": "stream",
          "name": "stdout",
          "text": [
            "+----------+\n",
            "|avg(todep)|\n",
            "+----------+\n",
            "|      8.19|\n",
            "+----------+\n",
            "\n"
          ]
        }
      ]
    },
    {
      "cell_type": "code",
      "source": [
        "# Show some statistical description\n",
        "s.describe()"
      ],
      "metadata": {
        "colab": {
          "base_uri": "https://localhost:8080/",
          "height": 176
        },
        "id": "vSFjv12n63-3",
        "outputId": "674e723a-d818-4f74-ecd3-a28079321b3c"
      },
      "execution_count": 14,
      "outputs": [
        {
          "output_type": "execute_result",
          "data": {
            "text/plain": [
              "+-------+---------+------+------+--------+------------------+------------------+------------------+---------+------------------+-------------+------------------+------------+--------+--------+-------+-----------------+-----------------+-----------------+------------------+------------------+------------------+-----------------+-----------------+-----------------+-----------------+-----------------+------------------+------------------+-----------------+------------------+-----------------+------------------+------------------+------------------+------------------+------------------+------------------+------------------+------------------+-----------------+-----------------+------------------+----------------+-----------------+------------------+------------------+-----------------+-----------------+------------------+-----------------+\n",
              "|summary|inter_dom|region|gender|academic|               age|          age_cate|              stay|stay_cate|          japanese|japanese_cate|           english|english_cate|intimate|religion|suicide|              dep|          deptype|            todep|            depsev|              tosc|               apd|            ahome|              aph|            afear|              acs|           aguilt|          amiscell|              toas|          partner|           friends|          parents|          relative|           profess|             phone|            doctor|              reli|             alone|            others|          internet|       partner_bi|       friends_bi|        parents_bi|     relative_bi|  professional_bi|          phone_bi|         doctor_bi|      religion_bi|         alone_bi|         others_bi|      internet_bi|\n",
              "+-------+---------+------+------+--------+------------------+------------------+------------------+---------+------------------+-------------+------------------+------------+--------+--------+-------+-----------------+-----------------+-----------------+------------------+------------------+------------------+-----------------+-----------------+-----------------+-----------------+-----------------+------------------+------------------+-----------------+------------------+-----------------+------------------+------------------+------------------+------------------+------------------+------------------+------------------+------------------+-----------------+-----------------+------------------+----------------+-----------------+------------------+------------------+-----------------+-----------------+------------------+-----------------+\n",
              "|  count|      268|   268|   268|     268|               268|               268|               268|      268|               268|          268|               268|         268|     260|     268|    268|              270|              271|              268|               273|               268|               268|              268|              268|              268|              268|              268|               268|               268|              268|               268|              268|               268|               268|               268|               268|               268|               268|               268|               242|              283|              283|               272|             272|              272|               272|               272|              272|              272|               272|              272|\n",
              "|   mean|     null|  null|  null|    null| 20.87313432835821|2.5597014925373136|2.1492537313432836|     null|3.0970149253731343|         null|3.6492537313432836|        null|    null|    null|   null|            134.0|89.33333333333333|8.186567164179104|              53.6|37.473880597014926|15.414179104477611| 9.60820895522388|9.138059701492537|7.257462686567164|6.063432835820896|3.783582089552239|21.115671641791046| 72.38059701492537| 4.32089552238806| 4.063432835820896|4.373134328358209|3.0708955223880596|2.9477611940298507| 2.287313432835821| 2.671641791044776|1.9179104477611941|2.9402985074626864|2.1417910447761193| 3.020661157024793|             86.6|            181.4|             134.0|           134.0|            134.0|             134.0|             134.0|            134.0|            134.0|             134.0|            134.0|\n",
              "| stddev|     null|  null|  null|    null|2.7652786783892576|1.0706237044601954| 1.326804969095303|     null| 1.306104382870079|         null|0.8805638531215252|        null|    null|    null|   null|53.74011537017761|71.84242015225638|4.954728246001668|41.614901177342716| 9.234120323181463| 6.174438705752721|4.011155763980721|4.194651396837605|3.111676135041855|2.600721335972424|1.909416603251278| 7.402149242273197|22.644887568181296|2.233891974187523|1.9352066751698362|2.072367304331111| 1.853888498756755|1.8290914392998283|1.5298244320109695|1.7147787636556566|1.4065044590929987| 2.030705100806051|1.5048136748031495|1.7199062676077244|49.38015795843509|49.13363700881796|3.4641016151377544|78.5196366097891|84.29313930168536|120.08885599144216|101.61364737737414|132.7905619136139|79.67433714816836|130.48116083685542|102.7683479157534|\n",
              "|    min|      Dom|    EA|Female|    Grad|                17|                 1|                 1|     Long|                 1|      Average|                 1|     Average|      No|      No|     No|              172|              172|                0|               107|                 8|                 8|                4|                5|                4|                3|                2|                10|                36|                1|                 1|                1|                 1|                 1|                 1|                 1|                 1|                 1|                 1|                 1|              123|              123|               131|             202|              207|               238|               222|               19|              203|                21|              223|\n",
              "|    max|    Inter|   SEA|  Male|   Under|                31|                 5|                10|    Short|                 5|          Low|                 5|         Low|     Yes|     Yes|    Yes|              Yes|            Other|               25|               Sev|                48|                39|               20|               25|               17|               13|               10|                47|               145|                7|                 7|                7|                 7|                 7|                 7|                 7|                 7|                 7|                 7|                 7|              Yes|              Yes|               Yes|             Yes|              Yes|               Yes|               Yes|              Yes|              Yes|               Yes|              Yes|\n",
              "+-------+---------+------+------+--------+------------------+------------------+------------------+---------+------------------+-------------+------------------+------------+--------+--------+-------+-----------------+-----------------+-----------------+------------------+------------------+------------------+-----------------+-----------------+-----------------+-----------------+-----------------+------------------+------------------+-----------------+------------------+-----------------+------------------+------------------+------------------+------------------+------------------+------------------+------------------+------------------+-----------------+-----------------+------------------+----------------+-----------------+------------------+------------------+-----------------+-----------------+------------------+-----------------+"
            ],
            "text/html": [
              "<table border='1'>\n",
              "<tr><th>summary</th><th>inter_dom</th><th>region</th><th>gender</th><th>academic</th><th>age</th><th>age_cate</th><th>stay</th><th>stay_cate</th><th>japanese</th><th>japanese_cate</th><th>english</th><th>english_cate</th><th>intimate</th><th>religion</th><th>suicide</th><th>dep</th><th>deptype</th><th>todep</th><th>depsev</th><th>tosc</th><th>apd</th><th>ahome</th><th>aph</th><th>afear</th><th>acs</th><th>aguilt</th><th>amiscell</th><th>toas</th><th>partner</th><th>friends</th><th>parents</th><th>relative</th><th>profess</th><th> phone</th><th>doctor</th><th>reli</th><th>alone</th><th>others</th><th>internet</th><th>partner_bi</th><th>friends_bi</th><th>parents_bi</th><th>relative_bi</th><th>professional_bi</th><th>phone_bi</th><th>doctor_bi</th><th>religion_bi</th><th>alone_bi</th><th>others_bi</th><th>internet_bi</th></tr>\n",
              "<tr><td>count</td><td>268</td><td>268</td><td>268</td><td>268</td><td>268</td><td>268</td><td>268</td><td>268</td><td>268</td><td>268</td><td>268</td><td>268</td><td>260</td><td>268</td><td>268</td><td>270</td><td>271</td><td>268</td><td>273</td><td>268</td><td>268</td><td>268</td><td>268</td><td>268</td><td>268</td><td>268</td><td>268</td><td>268</td><td>268</td><td>268</td><td>268</td><td>268</td><td>268</td><td>268</td><td>268</td><td>268</td><td>268</td><td>268</td><td>242</td><td>283</td><td>283</td><td>272</td><td>272</td><td>272</td><td>272</td><td>272</td><td>272</td><td>272</td><td>272</td><td>272</td></tr>\n",
              "<tr><td>mean</td><td>null</td><td>null</td><td>null</td><td>null</td><td>20.87313432835821</td><td>2.5597014925373136</td><td>2.1492537313432836</td><td>null</td><td>3.0970149253731343</td><td>null</td><td>3.6492537313432836</td><td>null</td><td>null</td><td>null</td><td>null</td><td>134.0</td><td>89.33333333333333</td><td>8.186567164179104</td><td>53.6</td><td>37.473880597014926</td><td>15.414179104477611</td><td>9.60820895522388</td><td>9.138059701492537</td><td>7.257462686567164</td><td>6.063432835820896</td><td>3.783582089552239</td><td>21.115671641791046</td><td>72.38059701492537</td><td>4.32089552238806</td><td>4.063432835820896</td><td>4.373134328358209</td><td>3.0708955223880596</td><td>2.9477611940298507</td><td>2.287313432835821</td><td>2.671641791044776</td><td>1.9179104477611941</td><td>2.9402985074626864</td><td>2.1417910447761193</td><td>3.020661157024793</td><td>86.6</td><td>181.4</td><td>134.0</td><td>134.0</td><td>134.0</td><td>134.0</td><td>134.0</td><td>134.0</td><td>134.0</td><td>134.0</td><td>134.0</td></tr>\n",
              "<tr><td>stddev</td><td>null</td><td>null</td><td>null</td><td>null</td><td>2.7652786783892576</td><td>1.0706237044601954</td><td>1.326804969095303</td><td>null</td><td>1.306104382870079</td><td>null</td><td>0.8805638531215252</td><td>null</td><td>null</td><td>null</td><td>null</td><td>53.74011537017761</td><td>71.84242015225638</td><td>4.954728246001668</td><td>41.614901177342716</td><td>9.234120323181463</td><td>6.174438705752721</td><td>4.011155763980721</td><td>4.194651396837605</td><td>3.111676135041855</td><td>2.600721335972424</td><td>1.909416603251278</td><td>7.402149242273197</td><td>22.644887568181296</td><td>2.233891974187523</td><td>1.9352066751698362</td><td>2.072367304331111</td><td>1.853888498756755</td><td>1.8290914392998283</td><td>1.5298244320109695</td><td>1.7147787636556566</td><td>1.4065044590929987</td><td>2.030705100806051</td><td>1.5048136748031495</td><td>1.7199062676077244</td><td>49.38015795843509</td><td>49.13363700881796</td><td>3.4641016151377544</td><td>78.5196366097891</td><td>84.29313930168536</td><td>120.08885599144216</td><td>101.61364737737414</td><td>132.7905619136139</td><td>79.67433714816836</td><td>130.48116083685542</td><td>102.7683479157534</td></tr>\n",
              "<tr><td>min</td><td>Dom</td><td>EA</td><td>Female</td><td>Grad</td><td>17</td><td>1</td><td>1</td><td>Long</td><td>1</td><td>Average</td><td>1</td><td>Average</td><td>No</td><td>No</td><td>No</td><td>172</td><td>172</td><td>0</td><td>107</td><td>8</td><td>8</td><td>4</td><td>5</td><td>4</td><td>3</td><td>2</td><td>10</td><td>36</td><td>1</td><td>1</td><td>1</td><td>1</td><td>1</td><td>1</td><td>1</td><td>1</td><td>1</td><td>1</td><td>1</td><td>123</td><td>123</td><td>131</td><td>202</td><td>207</td><td>238</td><td>222</td><td>19</td><td>203</td><td>21</td><td>223</td></tr>\n",
              "<tr><td>max</td><td>Inter</td><td>SEA</td><td>Male</td><td>Under</td><td>31</td><td>5</td><td>10</td><td>Short</td><td>5</td><td>Low</td><td>5</td><td>Low</td><td>Yes</td><td>Yes</td><td>Yes</td><td>Yes</td><td>Other</td><td>25</td><td>Sev</td><td>48</td><td>39</td><td>20</td><td>25</td><td>17</td><td>13</td><td>10</td><td>47</td><td>145</td><td>7</td><td>7</td><td>7</td><td>7</td><td>7</td><td>7</td><td>7</td><td>7</td><td>7</td><td>7</td><td>7</td><td>Yes</td><td>Yes</td><td>Yes</td><td>Yes</td><td>Yes</td><td>Yes</td><td>Yes</td><td>Yes</td><td>Yes</td><td>Yes</td><td>Yes</td></tr>\n",
              "</table>\n"
            ]
          },
          "metadata": {},
          "execution_count": 14
        }
      ]
    },
    {
      "cell_type": "markdown",
      "source": [
        "# Working with spark.sql"
      ],
      "metadata": {
        "id": "ODOizytCD-lC"
      }
    },
    {
      "cell_type": "code",
      "source": [
        "#creates a temporary view named \"students\".\n",
        "s.createOrReplaceTempView(\"students\")"
      ],
      "metadata": {
        "id": "DQ0Sqhu7EDDb"
      },
      "execution_count": 15,
      "outputs": []
    },
    {
      "cell_type": "code",
      "source": [
        "spark.sql('SELECT * FROM students').show()"
      ],
      "metadata": {
        "colab": {
          "base_uri": "https://localhost:8080/"
        },
        "id": "N1ajLl5t9L-r",
        "outputId": "56f667d1-972e-442f-c441-416514f124aa"
      },
      "execution_count": 16,
      "outputs": [
        {
          "output_type": "stream",
          "name": "stdout",
          "text": [
            "+---------+------+------+--------+---+--------+----+---------+--------+-------------+-------+------------+--------+--------+-------+---+-------+-----+------+----+---+-----+---+-----+---+------+--------+----+-------+-------+-------+--------+-------+------+------+----+-----+------+--------+----------+----------+----------+-----------+---------------+--------+---------+-----------+--------+---------+-----------+\n",
            "|inter_dom|region|gender|academic|age|age_cate|stay|stay_cate|japanese|japanese_cate|english|english_cate|intimate|religion|suicide|dep|deptype|todep|depsev|tosc|apd|ahome|aph|afear|acs|aguilt|amiscell|toas|partner|friends|parents|relative|profess| phone|doctor|reli|alone|others|internet|partner_bi|friends_bi|parents_bi|relative_bi|professional_bi|phone_bi|doctor_bi|religion_bi|alone_bi|others_bi|internet_bi|\n",
            "+---------+------+------+--------+---+--------+----+---------+--------+-------------+-------+------------+--------+--------+-------+---+-------+-----+------+----+---+-----+---+-----+---+------+--------+----+-------+-------+-------+--------+-------+------+------+----+-----+------+--------+----------+----------+----------+-----------+---------------+--------+---------+-----------+--------+---------+-----------+\n",
            "|    Inter|   SEA|  Male|    Grad| 24|       4|   5|     Long|       3|      Average|      5|        High|    null|     Yes|     No| No|     No|    0|   Min|  34| 23|    9| 11|    8| 11|     2|      27|  91|      5|      5|      6|       3|      2|     1|     4|   1|    3|     4|    null|       Yes|       Yes|       Yes|         No|             No|      No|       No|         No|      No|       No|         No|\n",
            "|    Inter|   SEA|  Male|    Grad| 28|       5|   1|    Short|       4|         High|      4|        High|    null|      No|     No| No|     No|    2|   Min|  48|  8|    7|  5|    4|  3|     2|      10|  39|      7|      7|      7|       4|      4|     4|     4|   1|    1|     1|    null|       Yes|       Yes|       Yes|         No|             No|      No|       No|         No|      No|       No|         No|\n",
            "|    Inter|   SEA|  Male|    Grad| 25|       4|   6|     Long|       4|         High|      4|        High|     Yes|     Yes|     No| No|     No|    2|   Min|  41| 13|    4|  7|    6|  4|     3|      14|  51|      3|      3|      3|       1|      1|     2|     1|   1|    1|     1|    null|        No|        No|        No|         No|             No|      No|       No|         No|      No|       No|         No|\n",
            "|    Inter|    EA|Female|    Grad| 29|       5|   1|    Short|       2|          Low|      3|     Average|      No|      No|     No| No|     No|    3|   Min|  37| 16|   10| 10|    8|  6|     4|      21|  75|      5|      5|      5|       5|      5|     2|     2|   2|    4|     4|    null|       Yes|       Yes|       Yes|        Yes|            Yes|      No|       No|         No|      No|       No|         No|\n",
            "|    Inter|    EA|Female|    Grad| 28|       5|   1|    Short|       1|          Low|      3|     Average|     Yes|      No|     No| No|     No|    3|   Min|  37| 15|   12|  5|    8|  7|     4|      31|  82|      5|      5|      5|       2|      5|     2|     5|   5|    4|     4|    null|       Yes|       Yes|       Yes|         No|            Yes|      No|      Yes|        Yes|      No|       No|         No|\n",
            "|    Inter|   SEA|  Male|    Grad| 24|       4|   6|     Long|       3|      Average|      4|        High|     Yes|      No|     No| No|     No|    6|  Mild|  38| 18|    8| 10|    8|  7|     3|      29|  83|      6|      5|      4|       2|      1|     1|     2|   1|    5|     1|    null|       Yes|       Yes|        No|         No|             No|      No|       No|         No|     Yes|       No|         No|\n",
            "|    Inter|    SA|  Male|    Grad| 23|       4|   1|    Short|       3|      Average|      5|        High|     Yes|      No|     No| No|     No|    3|   Min|  46| 17|    6| 10|    5|  3|     2|      15|  58|      7|      5|      7|       2|      2|     1|     5|   1|    1|     1|    null|       Yes|       Yes|       Yes|         No|             No|      No|      Yes|         No|      No|       No|         No|\n",
            "|    Inter|   SEA|Female|    Grad| 30|       5|   2|   Medium|       1|          Low|      1|         Low|     Yes|     Yes|    Yes| No|     No|    9|  Mild|  41| 16|   20| 19|   15| 11|     6|      40| 127|      7|      2|      2|       2|      6|     2|     1|   1|    3|     1|    null|       Yes|        No|        No|         No|            Yes|      No|       No|         No|      No|       No|         No|\n",
            "|    Inter|   SEA|Female|    Grad| 25|       4|   4|     Long|       4|         High|      4|        High|      No|      No|     No|Yes|  Other|    7|  Mild|  36| 22|   12| 13|   13| 10|     6|      33| 109|      4|      4|      4|       4|      4|     4|     4|   4|    4|     4|    null|        No|        No|        No|         No|             No|      No|       No|         No|      No|       No|         No|\n",
            "|    Inter|Others|  Male|    Grad| 31|       5|   2|   Medium|       1|          Low|      4|        High|     Yes|     Yes|     No| No|     No|    3|   Min|  48|  8|    4|  5|   12|  3|     2|      17|  51|      1|      1|      1|       2|      1|     1|     2|   1|    2|     1|    null|        No|        No|        No|         No|             No|      No|       No|         No|      No|       No|         No|\n",
            "|    Inter|Others|Female|    Grad| 28|       5|   1|    Short|       1|          Low|      2|         Low|      No|     Yes|     No| No|     No|    5|  Mild|  32| 24|    8| 10|    8|  6|     6|      30|  92|      7|      3|      7|       7|      3|     1|     3|   1|    3|     5|    null|       Yes|        No|       Yes|        Yes|             No|      No|       No|         No|      No|      Yes|         No|\n",
            "|    Inter|   SEA|Female|    Grad| 31|       5|   1|    Short|       1|          Low|      4|        High|     Yes|     Yes|     No| No|     No|    8|  Mild|  47| 17|   12| 14|   13|  9|     4|      26|  95|      6|      2|      6|       2|      2|     2|     2|   4|    2|     5|    null|       Yes|        No|       Yes|         No|             No|      No|       No|         No|      No|      Yes|         No|\n",
            "|    Inter|    SA|  Male|    Grad| 29|       5|   1|    Short|       1|          Low|      4|        High|     Yes|     Yes|     No| No|     No|    1|   Min|  48|  8|   11|  5|    4|  7|     2|      17|  54|      7|      5|      7|       7|      1|     1|     1|   4|    2|     1|    null|       Yes|       Yes|       Yes|        Yes|             No|      No|       No|         No|      No|       No|         No|\n",
            "|    Inter|    EA|  Male|    Grad| 23|       4|   1|    Short|       3|      Average|      4|        High|     Yes|     Yes|     No| No|     No|    3|   Min|  32|  9|    8|  5|    4|  6|     7|      18|  57|      7|      5|      3|       2|      2|     2|     2|   2|    1|     1|    null|       Yes|       Yes|        No|         No|             No|      No|       No|         No|      No|       No|         No|\n",
            "|    Inter|   SEA|Female|    Grad| 31|       5|   1|    Short|       1|          Low|      3|     Average|     Yes|      No|    Yes| No|     No|    9|  Mild|  31| 23|   16| 15|    8| 12|     8|      30| 112|      1|      4|      1|       1|      3|     2|     3|   3|    3|     3|    null|        No|        No|        No|         No|             No|      No|       No|         No|      No|       No|         No|\n",
            "|    Inter|Others|Female|    Grad| 30|       5|   1|    Short|       1|          Low|      5|        High|     Yes|     Yes|     No|Yes|  Other|    6|  Mild|  40| 19|    9|  5|    4| 13|     2|      22|  74|      7|      3|      5|       3|      5|     3|     5|   5|    1|     1|    null|       Yes|        No|       Yes|         No|            Yes|      No|      Yes|        Yes|      No|       No|         No|\n",
            "|    Inter|    EA|Female|    Grad| 31|       5|   1|    Short|       1|          Low|      3|     Average|     Yes|      No|     No| No|     No|    3|   Min|  48| 11|   13|  7|    4|  8|     5|      15|  63|      6|      5|      2|       2|      1|     1|     1|   1|    3|     1|    null|       Yes|       Yes|        No|         No|             No|      No|       No|         No|      No|       No|         No|\n",
            "|    Inter|Others|Female|    Grad| 29|       5|   1|    Short|       1|          Low|      5|        High|     Yes|     Yes|     No| No|     No|    3|   Min|  48| 16|    4|  5|    4|  3|     2|      13|  47|      7|      5|      7|       3|      1|     1|     5|   1|    1|     1|    null|       Yes|       Yes|       Yes|         No|             No|      No|      Yes|         No|      No|       No|         No|\n",
            "|    Inter|   SEA|Female|   Under| 19|       2|   1|    Short|       3|      Average|      5|        High|    null|      No|     No| No|     No|    7|  Mild|  44| 11|    8|  5|    7|  4|     2|      18|  55|      5|      3|      6|       7|      5|     2|     2|   1|    1|     1|    null|       Yes|        No|       Yes|        Yes|            Yes|      No|       No|         No|      No|       No|         No|\n",
            "|    Inter|   SEA|  Male|   Under| 25|       4|   3|   Medium|       2|          Low|      4|        High|    null|     Yes|     No| No|     No|    1|   Min|  36| 13|   10|  7|    5|  3|     3|      19|  60|      1|      5|      1|       1|      1|     1|     1|   1|    6|     1|    null|        No|       Yes|        No|         No|             No|      No|       No|         No|     Yes|       No|         No|\n",
            "+---------+------+------+--------+---+--------+----+---------+--------+-------------+-------+------------+--------+--------+-------+---+-------+-----+------+----+---+-----+---+-----+---+------+--------+----+-------+-------+-------+--------+-------+------+------+----+-----+------+--------+----------+----------+----------+-----------+---------------+--------+---------+-----------+--------+---------+-----------+\n",
            "only showing top 20 rows\n",
            "\n"
          ]
        }
      ]
    },
    {
      "cell_type": "code",
      "source": [
        "#Count all of the records in the data\n",
        "spark.sql(\n",
        "    'SELECT COUNT(*) AS total_records FROM students'\n",
        "        ).show()"
      ],
      "metadata": {
        "colab": {
          "base_uri": "https://localhost:8080/"
        },
        "id": "SDfHSEUL9fmT",
        "outputId": "156c5486-48b4-43c8-f778-7fab74c4243f"
      },
      "execution_count": 17,
      "outputs": [
        {
          "output_type": "stream",
          "name": "stdout",
          "text": [
            "+-------------+\n",
            "|total_records|\n",
            "+-------------+\n",
            "|          286|\n",
            "+-------------+\n",
            "\n"
          ]
        }
      ]
    },
    {
      "cell_type": "code",
      "source": [
        "#Count all of the records in the data per student type\n",
        "spark.sql('SELECT COUNT(*) count_inter_dom FROM students GROUP BY inter_dom').show()"
      ],
      "metadata": {
        "colab": {
          "base_uri": "https://localhost:8080/"
        },
        "id": "31QmdedfE4_h",
        "outputId": "e57b6c1d-af40-427b-cc24-430b2bfe9148"
      },
      "execution_count": 18,
      "outputs": [
        {
          "output_type": "stream",
          "name": "stdout",
          "text": [
            "+---------------+\n",
            "|count_inter_dom|\n",
            "+---------------+\n",
            "|             18|\n",
            "|            201|\n",
            "|             67|\n",
            "+---------------+\n",
            "\n"
          ]
        }
      ]
    },
    {
      "cell_type": "code",
      "source": [
        "#Filter the data to see how it differs between the student types\n",
        "spark.sql('SELECT inter_dom, COUNT(*) AS count_inter_dom FROM students GROUP BY inter_dom').show()"
      ],
      "metadata": {
        "colab": {
          "base_uri": "https://localhost:8080/"
        },
        "id": "LkdgUv6qFGAM",
        "outputId": "635f92f2-1122-4ad0-d776-06cfbe819c30"
      },
      "execution_count": 19,
      "outputs": [
        {
          "output_type": "stream",
          "name": "stdout",
          "text": [
            "+---------+---------------+\n",
            "|inter_dom|count_inter_dom|\n",
            "+---------+---------------+\n",
            "|     null|             18|\n",
            "|    Inter|            201|\n",
            "|      Dom|             67|\n",
            "+---------+---------------+\n",
            "\n"
          ]
        }
      ]
    },
    {
      "cell_type": "code",
      "source": [
        "#Find the average scores by length of stay for international students, and view them in the order\n",
        "result = spark.sql(\n",
        "\"\"\"\n",
        "SELECT stay,\n",
        "  ROUND(AVG(todep), 2) AS average_phq,\n",
        "  ROUND(AVG(tosc), 2) AS average_scs,\n",
        "  ROUND(AVG(toas), 2) AS average_as\n",
        "FROM students\n",
        "WHERE inter_dom = 'Inter'\n",
        "GROUP BY stay\n",
        "ORDER BY stay ASC\n",
        "\"\"\")"
      ],
      "metadata": {
        "id": "aVnynDJAFSEy"
      },
      "execution_count": 20,
      "outputs": []
    },
    {
      "cell_type": "code",
      "source": [
        "result.show()"
      ],
      "metadata": {
        "colab": {
          "base_uri": "https://localhost:8080/"
        },
        "id": "opf7qZwyG8BL",
        "outputId": "91213dcf-9a42-49dc-d26f-88b45a0bd7f4"
      },
      "execution_count": 21,
      "outputs": [
        {
          "output_type": "stream",
          "name": "stdout",
          "text": [
            "+----+-----------+-----------+----------+\n",
            "|stay|average_phq|average_scs|average_as|\n",
            "+----+-----------+-----------+----------+\n",
            "|   1|       7.48|      38.11|      72.8|\n",
            "|   2|       8.28|      37.08|     77.67|\n",
            "|   3|       9.09|      37.13|      78.0|\n",
            "|   4|       8.57|      33.93|     87.71|\n",
            "|   5|        0.0|       34.0|      91.0|\n",
            "|   6|        6.0|       38.0|     58.67|\n",
            "|   7|        4.0|       48.0|      45.0|\n",
            "|   8|       10.0|       44.0|      65.0|\n",
            "|  10|       13.0|       32.0|      50.0|\n",
            "+----+-----------+-----------+----------+\n",
            "\n"
          ]
        }
      ]
    },
    {
      "cell_type": "markdown",
      "source": [
        "# Plot the results"
      ],
      "metadata": {
        "id": "3MRi0SQjHRbc"
      }
    },
    {
      "cell_type": "code",
      "source": [
        "# Convert the result DataFrame to a Pandas DataFrame for plotting\n",
        "result_pd = result.toPandas()\n",
        "\n",
        "# Plot the results\n",
        "plt.figure(figsize=(10, 6))\n",
        "plt.plot(result_pd['stay'], result_pd['average_phq'], label='PHQ')\n",
        "plt.plot(result_pd['stay'], result_pd['average_scs'], label='SCS')\n",
        "plt.plot(result_pd['stay'], result_pd['average_as'], label='AS')\n",
        "plt.title('Average Scores by Length of Stay for International Students')\n",
        "plt.xlabel('Length of Stay')\n",
        "plt.ylabel('Average Score')\n",
        "plt.legend()\n",
        "plt.show()\n"
      ],
      "metadata": {
        "colab": {
          "base_uri": "https://localhost:8080/",
          "height": 564
        },
        "id": "VbMzz-3hGSJE",
        "outputId": "3c179fd9-a380-4d34-d16b-7672417e7d56"
      },
      "execution_count": 22,
      "outputs": [
        {
          "output_type": "display_data",
          "data": {
            "text/plain": [
              "<Figure size 1000x600 with 1 Axes>"
            ],
            "image/png": "[encoded data removed]"
          },
          "metadata": {}
        }
      ]
    }
  ]
}