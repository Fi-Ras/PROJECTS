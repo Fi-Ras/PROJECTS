{
 "cells": [
  {
   "cell_type": "markdown",
   "metadata": {},
   "source": [
    "### DATA PREPARATION 👾 😼"
   ]
  },
  {
   "cell_type": "code",
   "execution_count": 1,
   "metadata": {},
   "outputs": [],
   "source": [
    "#Import pandas Library \n",
    "import pandas as pd "
   ]
  },
  {
   "cell_type": "code",
   "execution_count": 2,
   "metadata": {},
   "outputs": [],
   "source": [
    "# Read Dirty DataFrames\n",
    "country = pd.read_csv(\"country.csv\")\n",
    "league = pd.read_csv(\"league.csv\")\n",
    "match = pd.read_csv(\"match.csv\")\n",
    "team = pd.read_csv(\"team.csv\")"
   ]
  },
  {
   "cell_type": "code",
   "execution_count": 25,
   "metadata": {},
   "outputs": [
    {
     "name": "stdout",
     "output_type": "stream",
     "text": [
      "<class 'pandas.core.frame.DataFrame'>\n",
      "RangeIndex: 5555 entries, 0 to 5554\n",
      "Data columns (total 9 columns):\n",
      " #   Column       Non-Null Count  Dtype \n",
      "---  ------       --------------  ----- \n",
      " 0   id           5555 non-null   int64 \n",
      " 1   country_id   5555 non-null   int64 \n",
      " 2   season       5555 non-null   object\n",
      " 3   stage        5555 non-null   int64 \n",
      " 4   date         5555 non-null   object\n",
      " 5   hometeam_id  5555 non-null   int64 \n",
      " 6   awayteam_id  5555 non-null   int64 \n",
      " 7   home_goal    5555 non-null   int64 \n",
      " 8   away_goal    5555 non-null   int64 \n",
      "dtypes: int64(7), object(2)\n",
      "memory usage: 390.7+ KB\n"
     ]
    }
   ],
   "source": [
    "# Show all match information\n",
    "match.info()"
   ]
  },
  {
   "cell_type": "markdown",
   "metadata": {},
   "source": [
    "### TEAMS"
   ]
  },
  {
   "cell_type": "markdown",
   "metadata": {},
   "source": [
    "##### Germany"
   ]
  },
  {
   "cell_type": "code",
   "execution_count": 4,
   "metadata": {},
   "outputs": [
    {
     "name": "stdout",
     "output_type": "stream",
     "text": [
      "       id  team_api_id       team_long_name team_short_name\n",
      "94  15617         9823     FC Bayern Munich             BMU\n",
      "95  15618         9790         Hamburger SV             HAM\n",
      "96  15619         8178  Bayer 04 Leverkusen             LEV\n",
      "97  15620         9789    Borussia Dortmund             DOR\n",
      "98  15621        10189        FC Schalke 04             S04\n"
     ]
    }
   ],
   "source": [
    "# Create a list of a german clubs\n",
    "clubs = ['FC Bayern Munich', 'Hamburger SV', 'Bayer 04 Leverkusen', 'Borussia Dortmund', 'FC Schalke 04', 'Hannover 96', 'VfL Wolfsburg', '1. FC Köln', 'Eintracht Frankfurt', 'Hertha BSC Berlin',\n",
    "         'SV Werder Bremen', 'TSG 1899 Hoffenheim', 'Borussia Mönchengladbach', 'VfB Stuttgart', 'SC Freiburg', '1. FC Nürnberg', '1. FSV Mainz 05', '1. FC Kaiserslautern', 'FC Augsburg', 'Fortuna Düsseldorf', 'SpVgg Greuther Fürth', 'Eintracht Braunschweig', 'SC Paderborn 07']\n",
    "\n",
    "# Use .isin() to select rows where 'team_short_name' matches clubs\n",
    "teams_germany = team[team['team_long_name'].isin(clubs)]\n",
    "\n",
    "# Display the selected rows\n",
    "print(teams_germany.head())"
   ]
  },
  {
   "cell_type": "code",
   "execution_count": 5,
   "metadata": {},
   "outputs": [
    {
     "data": {
      "text/plain": [
       "(23, 4)"
      ]
     },
     "execution_count": 5,
     "metadata": {},
     "output_type": "execute_result"
    }
   ],
   "source": [
    "# Show the shape of the DF\n",
    "teams_germany.shape"
   ]
  },
  {
   "cell_type": "code",
   "execution_count": 6,
   "metadata": {},
   "outputs": [
    {
     "name": "stdout",
     "output_type": "stream",
     "text": [
      "Index(['id', 'team_api_id', 'team_long_name', 'team_short_name'], dtype='object')\n"
     ]
    }
   ],
   "source": [
    "# Show the columns name of the DF\n",
    "print(teams_germany.columns)"
   ]
  },
  {
   "cell_type": "code",
   "execution_count": 6,
   "metadata": {},
   "outputs": [
    {
     "name": "stdout",
     "output_type": "stream",
     "text": [
      "<class 'pandas.core.frame.DataFrame'>\n",
      "Int64Index: 23 entries, 94 to 121\n",
      "Data columns (total 4 columns):\n",
      " #   Column           Non-Null Count  Dtype \n",
      "---  ------           --------------  ----- \n",
      " 0   id               23 non-null     int64 \n",
      " 1   team_api_id      23 non-null     int64 \n",
      " 2   team_long_name   23 non-null     object\n",
      " 3   team_short_name  23 non-null     object\n",
      "dtypes: int64(2), object(2)\n",
      "memory usage: 920.0+ bytes\n",
      "None\n"
     ]
    }
   ],
   "source": [
    "# Show all informations about the DF\n",
    "print(teams_germany.info())"
   ]
  },
  {
   "cell_type": "code",
   "execution_count": 7,
   "metadata": {},
   "outputs": [],
   "source": [
    "# Export the DataFrame to a CSV file\n",
    "teams_germany.to_csv('teams_germany.csv', index=False)"
   ]
  },
  {
   "cell_type": "markdown",
   "metadata": {},
   "source": [
    "##### Italy"
   ]
  },
  {
   "cell_type": "code",
   "execution_count": 7,
   "metadata": {},
   "outputs": [
    {
     "name": "stdout",
     "output_type": "stream",
     "text": [
      "        id  team_api_id team_long_name team_short_name\n",
      "124  20513         8524       Atalanta             ATA\n",
      "125  20514         8551          Siena             SIE\n",
      "126  20515         8529       Cagliari             CAG\n",
      "127  20516         8543          Lazio             LAZ\n",
      "128  20517         8530        Catania             CAT\n",
      "129  20518        10233          Genoa             GEN\n",
      "130  20519         8533  Chievo Verona             CHI\n",
      "132  20521         8535     Fiorentina             FIO\n",
      "133  20522         9885       Juventus             JUV\n",
      "134  20523         8564          Milan             ACM\n",
      "135  20524         9857        Bologna             BOL\n",
      "136  20525         8686           Roma             ROM\n",
      "137  20526         9875         Napoli             NAP\n",
      "138  20527         9882      Sampdoria             SAM\n",
      "139  20528         8636          Inter             INT\n",
      "140  20529         9804         Torino             TOR\n",
      "141  20530         9888          Lecce             LEC\n",
      "142  20531         8600        Udinese             UDI\n",
      "143  20532         8540        Palermo             PAL\n",
      "145  21285         8537        Livorno             LIV\n",
      "146  21292        10167          Parma             PAR\n",
      "147  22042         9880         Cesena             CES\n",
      "149  22805         6269         Novara             NOV\n",
      "150  23523         9878        Pescara             PES\n",
      "151  24273         9876  Hellas Verona             VER\n",
      "152  24288         7943       Sassuolo             SAS\n",
      "153  25048         8534         Empoli             EMP\n"
     ]
    }
   ],
   "source": [
    "clubs = ['Atalanta', 'Siena', 'Cagliari', 'Lazio', 'Catania', 'Genoa', 'Chievo Verona', 'Fiorentina', 'Juventus', 'Milan',\n",
    "         'Bologna', 'Roma', 'Napoli', 'Sampdoria', 'Inter', 'Torino', 'Lecce', 'Udinese', 'Palermo', 'Livorno', \n",
    "         'Parma', 'Cesena', 'Novara', 'Pescara', 'Hellas Verona', 'Sassuolo', 'Empoli']\n",
    "\n",
    "# Use .isin() to select rows where 'team_short_name' matches clubs\n",
    "teams_italy = team[team['team_long_name'].isin(clubs)]\n",
    "\n",
    "# Display the selected rows\n",
    "print(teams_italy)"
   ]
  },
  {
   "cell_type": "code",
   "execution_count": 8,
   "metadata": {},
   "outputs": [
    {
     "data": {
      "text/plain": [
       "(27, 4)"
      ]
     },
     "execution_count": 8,
     "metadata": {},
     "output_type": "execute_result"
    }
   ],
   "source": [
    "# Show the shape of the DF\n",
    "teams_italy.shape"
   ]
  },
  {
   "cell_type": "code",
   "execution_count": 9,
   "metadata": {},
   "outputs": [
    {
     "name": "stdout",
     "output_type": "stream",
     "text": [
      "Index(['id', 'team_api_id', 'team_long_name', 'team_short_name'], dtype='object')\n"
     ]
    }
   ],
   "source": [
    "# Show the columns of the DF\n",
    "print(teams_italy.columns)"
   ]
  },
  {
   "cell_type": "code",
   "execution_count": 10,
   "metadata": {},
   "outputs": [
    {
     "name": "stdout",
     "output_type": "stream",
     "text": [
      "<class 'pandas.core.frame.DataFrame'>\n",
      "Int64Index: 27 entries, 124 to 153\n",
      "Data columns (total 4 columns):\n",
      " #   Column           Non-Null Count  Dtype \n",
      "---  ------           --------------  ----- \n",
      " 0   id               27 non-null     int64 \n",
      " 1   team_api_id      27 non-null     int64 \n",
      " 2   team_long_name   27 non-null     object\n",
      " 3   team_short_name  27 non-null     object\n",
      "dtypes: int64(2), object(2)\n",
      "memory usage: 1.1+ KB\n",
      "None\n"
     ]
    }
   ],
   "source": [
    "# Show all infos of the DF\n",
    "print(teams_italy.info())"
   ]
  },
  {
   "cell_type": "code",
   "execution_count": 12,
   "metadata": {},
   "outputs": [],
   "source": [
    "# Export the DataFrame to a CSV file\n",
    "teams_italy.to_csv('teams_italy.csv', index=False)"
   ]
  },
  {
   "cell_type": "markdown",
   "metadata": {},
   "source": [
    "### MATCHES"
   ]
  },
  {
   "cell_type": "markdown",
   "metadata": {},
   "source": [
    "##### Germany"
   ]
  },
  {
   "cell_type": "code",
   "execution_count": 11,
   "metadata": {},
   "outputs": [
    {
     "name": "stdout",
     "output_type": "stream",
     "text": [
      "        id  country_id     season  stage                      date  \\\n",
      "3772  8727        7809  2011/2012      1  2011-08-05T00:00:00.000Z   \n",
      "3773  8728        7809  2011/2012      1  2011-08-06T00:00:00.000Z   \n",
      "3774  8729        7809  2011/2012      1  2011-08-06T00:00:00.000Z   \n",
      "3775  8730        7809  2011/2012      1  2011-08-07T00:00:00.000Z   \n",
      "3776  8731        7809  2011/2012      1  2011-08-06T00:00:00.000Z   \n",
      "\n",
      "      hometeam_id  awayteam_id  home_goal  away_goal  \n",
      "3772         9789         9790          3          1  \n",
      "3773         8697         8350          2          0  \n",
      "3774         9904         8226          2          1  \n",
      "3775         9905         8178          2          0  \n",
      "3776        10269        10189          3          0  \n"
     ]
    }
   ],
   "source": [
    "# Select and show the german matchs and create a new DF matches_germany\n",
    "matches_germany = match[(match['country_id'] == 7809)]\n",
    "print(matches_germany.head())"
   ]
  },
  {
   "cell_type": "code",
   "execution_count": 12,
   "metadata": {},
   "outputs": [
    {
     "name": "stdout",
     "output_type": "stream",
     "text": [
      "Index(['id', 'country_id', 'season', 'stage', 'date', 'hometeam_id',\n",
      "       'awayteam_id', 'home_goal', 'away_goal'],\n",
      "      dtype='object')\n"
     ]
    }
   ],
   "source": [
    "# Show the columns of the DF matches_germany\n",
    "print(matches_germany.columns)"
   ]
  },
  {
   "cell_type": "code",
   "execution_count": 13,
   "metadata": {},
   "outputs": [
    {
     "name": "stdout",
     "output_type": "stream",
     "text": [
      "<class 'pandas.core.frame.DataFrame'>\n",
      "Int64Index: 1224 entries, 3772 to 4995\n",
      "Data columns (total 9 columns):\n",
      " #   Column       Non-Null Count  Dtype \n",
      "---  ------       --------------  ----- \n",
      " 0   id           1224 non-null   int64 \n",
      " 1   country_id   1224 non-null   int64 \n",
      " 2   season       1224 non-null   object\n",
      " 3   stage        1224 non-null   int64 \n",
      " 4   date         1224 non-null   object\n",
      " 5   hometeam_id  1224 non-null   int64 \n",
      " 6   awayteam_id  1224 non-null   int64 \n",
      " 7   home_goal    1224 non-null   int64 \n",
      " 8   away_goal    1224 non-null   int64 \n",
      "dtypes: int64(7), object(2)\n",
      "memory usage: 95.6+ KB\n",
      "None\n"
     ]
    }
   ],
   "source": [
    "# Show all the informations of the DF matches_germany\n",
    "print(matches_germany.info())"
   ]
  },
  {
   "cell_type": "code",
   "execution_count": 14,
   "metadata": {},
   "outputs": [],
   "source": [
    "# Export the DF to a CSV file\n",
    "matches_germany.to_csv(\"matches_germany.csv\", index=False)"
   ]
  },
  {
   "cell_type": "code",
   "execution_count": 15,
   "metadata": {},
   "outputs": [
    {
     "name": "stdout",
     "output_type": "stream",
     "text": [
      "Index(['id', 'team_api_id', 'team_long_name', 'team_short_name'], dtype='object')\n"
     ]
    }
   ],
   "source": [
    "# Show the columns of the DF\n",
    "print(team.columns)"
   ]
  },
  {
   "cell_type": "markdown",
   "metadata": {},
   "source": [
    "##### Italy"
   ]
  },
  {
   "cell_type": "code",
   "execution_count": 16,
   "metadata": {},
   "outputs": [
    {
     "name": "stdout",
     "output_type": "stream",
     "text": [
      "         id  country_id     season  stage                      date  \\\n",
      "4996  11397       10257  2011/2012      1  2011-12-21T00:00:00.000Z   \n",
      "4997  11398       10257  2011/2012      1  2011-12-21T00:00:00.000Z   \n",
      "4998  11399       10257  2011/2012      1  2011-12-20T00:00:00.000Z   \n",
      "4999  11400       10257  2011/2012      1  2011-12-21T00:00:00.000Z   \n",
      "5000  11401       10257  2011/2012      1  2011-12-21T00:00:00.000Z   \n",
      "\n",
      "      hometeam_id  awayteam_id  home_goal  away_goal  \n",
      "4996         8524         9880          4          1  \n",
      "4997         9857         8686          0          2  \n",
      "4998         8529         8564          0          2  \n",
      "4999         8636         9888          4          1  \n",
      "5000         8543         8533          0          0  \n"
     ]
    }
   ],
   "source": [
    "# Select and show the italien matchs and create a new DF matches_italy\n",
    "matches_italy = match[(match['country_id'] == 10257)]\n",
    "print(matches_italy.head())"
   ]
  },
  {
   "cell_type": "code",
   "execution_count": 17,
   "metadata": {},
   "outputs": [
    {
     "name": "stdout",
     "output_type": "stream",
     "text": [
      "Index(['id', 'country_id', 'season', 'stage', 'date', 'hometeam_id',\n",
      "       'awayteam_id', 'home_goal', 'away_goal'],\n",
      "      dtype='object')\n"
     ]
    }
   ],
   "source": [
    "# Show the columns of the DF\n",
    "print(matches_italy.columns)"
   ]
  },
  {
   "cell_type": "code",
   "execution_count": 18,
   "metadata": {},
   "outputs": [
    {
     "name": "stdout",
     "output_type": "stream",
     "text": [
      "<class 'pandas.core.frame.DataFrame'>\n",
      "Int64Index: 559 entries, 4996 to 5554\n",
      "Data columns (total 9 columns):\n",
      " #   Column       Non-Null Count  Dtype \n",
      "---  ------       --------------  ----- \n",
      " 0   id           559 non-null    int64 \n",
      " 1   country_id   559 non-null    int64 \n",
      " 2   season       559 non-null    object\n",
      " 3   stage        559 non-null    int64 \n",
      " 4   date         559 non-null    object\n",
      " 5   hometeam_id  559 non-null    int64 \n",
      " 6   awayteam_id  559 non-null    int64 \n",
      " 7   home_goal    559 non-null    int64 \n",
      " 8   away_goal    559 non-null    int64 \n",
      "dtypes: int64(7), object(2)\n",
      "memory usage: 43.7+ KB\n",
      "None\n"
     ]
    }
   ],
   "source": [
    "#Show all the informations of the DF\n",
    "print(matches_italy.info())"
   ]
  },
  {
   "cell_type": "code",
   "execution_count": 21,
   "metadata": {},
   "outputs": [],
   "source": [
    "# Export the DF to a CSV file\n",
    "matches_italy.to_csv(\"matches_italy.csv\", index=False)"
   ]
  },
  {
   "cell_type": "markdown",
   "metadata": {},
   "source": [
    "#### matches_2013_2014"
   ]
  },
  {
   "cell_type": "code",
   "execution_count": 20,
   "metadata": {},
   "outputs": [
    {
     "name": "stdout",
     "output_type": "stream",
     "text": [
      "       id  country_id     season  stage                      date  \\\n",
      "480  1237           1  2013/2014      1  2014-03-29T00:00:00.000Z   \n",
      "481  1238           1  2013/2014      1  2014-03-29T00:00:00.000Z   \n",
      "482  1239           1  2013/2014      2  2014-04-05T00:00:00.000Z   \n",
      "483  1240           1  2013/2014      2  2014-04-05T00:00:00.000Z   \n",
      "484  1241           1  2013/2014      3  2014-04-12T00:00:00.000Z   \n",
      "\n",
      "     hometeam_id  awayteam_id  home_goal  away_goal  \n",
      "480         8475         9989          2          0  \n",
      "481         9991         8573          0          1  \n",
      "482         9989         9991          1          0  \n",
      "483         8573         8475          0          0  \n",
      "484         9991         8475          2          1  \n"
     ]
    }
   ],
   "source": [
    "# Select and show the matchs played between 2013/2014 and create a new DF matches_2013_2014\n",
    "matches_2013_2014 = match[(match['season'] == '2013/2014')]\n",
    "print(matches_2013_2014.head())"
   ]
  },
  {
   "cell_type": "code",
   "execution_count": 21,
   "metadata": {},
   "outputs": [
    {
     "name": "stdout",
     "output_type": "stream",
     "text": [
      "Index(['id', 'country_id', 'season', 'stage', 'date', 'hometeam_id',\n",
      "       'awayteam_id', 'home_goal', 'away_goal'],\n",
      "      dtype='object')\n"
     ]
    }
   ],
   "source": [
    "#Show the Columns of the DF\n",
    "print(matches_2013_2014.columns)"
   ]
  },
  {
   "cell_type": "code",
   "execution_count": 22,
   "metadata": {},
   "outputs": [
    {
     "name": "stdout",
     "output_type": "stream",
     "text": [
      "<class 'pandas.core.frame.DataFrame'>\n",
      "Int64Index: 1078 entries, 480 to 4689\n",
      "Data columns (total 9 columns):\n",
      " #   Column       Non-Null Count  Dtype \n",
      "---  ------       --------------  ----- \n",
      " 0   id           1078 non-null   int64 \n",
      " 1   country_id   1078 non-null   int64 \n",
      " 2   season       1078 non-null   object\n",
      " 3   stage        1078 non-null   int64 \n",
      " 4   date         1078 non-null   object\n",
      " 5   hometeam_id  1078 non-null   int64 \n",
      " 6   awayteam_id  1078 non-null   int64 \n",
      " 7   home_goal    1078 non-null   int64 \n",
      " 8   away_goal    1078 non-null   int64 \n",
      "dtypes: int64(7), object(2)\n",
      "memory usage: 84.2+ KB\n",
      "None\n"
     ]
    }
   ],
   "source": [
    "#Show all the info of the DF\n",
    "print(matches_2013_2014.info())"
   ]
  },
  {
   "cell_type": "code",
   "execution_count": 23,
   "metadata": {},
   "outputs": [],
   "source": [
    "# Export the DF to a CSV file\n",
    "matches_2013_2014.to_csv(\"matches_2013_2014.csv\", index=False)"
   ]
  }
 ],
 "metadata": {
  "kernelspec": {
   "display_name": "base",
   "language": "python",
   "name": "python3"
  },
  "language_info": {
   "codemirror_mode": {
    "name": "ipython",
    "version": 3
   },
   "file_extension": ".py",
   "mimetype": "text/x-python",
   "name": "python",
   "nbconvert_exporter": "python",
   "pygments_lexer": "ipython3",
   "version": "3.9.12"
  }
 },
 "nbformat": 4,
 "nbformat_minor": 2
}
