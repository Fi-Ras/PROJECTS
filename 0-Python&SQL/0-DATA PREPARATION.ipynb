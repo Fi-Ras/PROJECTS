{
 "cells": [
  {
   "cell_type": "markdown",
   "metadata": {},
   "source": [
    "### DATA PREPARATION 👾 😼"
   ]
  },
  {
   "cell_type": "code",
   "execution_count": 1,
   "metadata": {},
   "outputs": [],
   "source": [
    "# Import pandas library\n",
    "import pandas as pd\n",
    "import re"
   ]
  },
  {
   "cell_type": "code",
   "execution_count": 2,
   "metadata": {},
   "outputs": [],
   "source": [
    "# Read Dirty DataFrames\n",
    "d1 = pd.read_csv(\"films.csv\", header=None)\n",
    "d2 = pd.read_csv(\"people.csv\", header=None)\n",
    "d3 = pd.read_csv(\"reviews.csv\", header=None)\n",
    "d4 = pd.read_csv(\"roles.csv\", header=None)"
   ]
  },
  {
   "cell_type": "markdown",
   "metadata": {},
   "source": [
    "### DATA EXPLORATION 🧐"
   ]
  },
  {
   "cell_type": "code",
   "execution_count": 3,
   "metadata": {},
   "outputs": [
    {
     "name": "stdout",
     "output_type": "stream",
     "text": [
      "Films DF : \n",
      "    0                                                 1       2        3  \\\n",
      "0  1  Intolerance: Love's Struggle Throughout the Ages  1916.0      USA   \n",
      "1  2                    Over the Hill to the Poorhouse  1920.0      USA   \n",
      "2  3                                    The Big Parade  1925.0      USA   \n",
      "3  4                                        Metropolis  1927.0  Germany   \n",
      "4  5                                     Pandora's Box  1929.0  Germany   \n",
      "\n",
      "       4       5          6          7          8  \n",
      "0  123.0     NaN  Not Rated        NaN   385907.0  \n",
      "1  110.0     NaN        NaN  3000000.0   100000.0  \n",
      "2  151.0     NaN  Not Rated        NaN   245000.0  \n",
      "3  145.0  German  Not Rated    26435.0  6000000.0  \n",
      "4  110.0  German  Not Rated     9950.0        NaN   \n",
      " ************************************************** \n",
      " People DF : \n",
      "    0                   1           2    3\n",
      "0  1             50 Cent  1975-07-06  NaN\n",
      "1  2  A. Michael Baldwin  1963-04-04  NaN\n",
      "2  3       A. Raven Cruz         NaN  NaN\n",
      "3  4        A.J. Buckley  1978-02-09  NaN\n",
      "4  5        A.J. DeLucia         NaN  NaN \n",
      " ************************************************** \n",
      " Reviews DF : \n",
      "       0       1      2    3       4      5\n",
      "0  3934   588.0  432.0  7.1  203461  46000\n",
      "1  3405   285.0  267.0  6.4  149998      0\n",
      "2   478    65.0   29.0  3.2    8465    491\n",
      "3    74    83.0   25.0  7.6    7071    930\n",
      "4  1254  1437.0  224.0  8.0  241030  13000 \n",
      " ************************************************** \n",
      " Roles DF : \n",
      "    0  1     2         3\n",
      "0  1  1  1630  director\n",
      "1  2  1  4843     actor\n",
      "2  3  1  5050     actor\n",
      "3  4  1  8175     actor\n",
      "4  5  2  3000  director \n",
      " ************************************************** \n",
      "\n"
     ]
    }
   ],
   "source": [
    "# See DataFrames\n",
    "print(\"Films DF : \\n\", \n",
    "    d1.head(), \n",
    "    \"\\n\", \"*****\"*10, \"\\n\",\n",
    "\n",
    "    \"People DF : \\n\", \n",
    "    d2.head(), \n",
    "    \"\\n\", \"*****\"*10, \"\\n\",\n",
    "\n",
    "    \"Reviews DF : \\n\", \n",
    "    d3.head(), \n",
    "    \"\\n\", \"*****\"*10, \"\\n\",\n",
    "\n",
    "    \"Roles DF : \\n\",\n",
    "    d4.head(), \n",
    "    \"\\n\", \"*****\"*10, \"\\n\",)"
   ]
  },
  {
   "cell_type": "code",
   "execution_count": 4,
   "metadata": {},
   "outputs": [
    {
     "name": "stdout",
     "output_type": "stream",
     "text": [
      "(4968, 9)\n"
     ]
    }
   ],
   "source": [
    "# Adding headers to DFs\n",
    "print(d1.shape)"
   ]
  },
  {
   "cell_type": "code",
   "execution_count": 30,
   "metadata": {},
   "outputs": [],
   "source": [
    "# Create a copy\n",
    "df1 = d1.copy()"
   ]
  },
  {
   "cell_type": "code",
   "execution_count": 6,
   "metadata": {},
   "outputs": [
    {
     "name": "stdout",
     "output_type": "stream",
     "text": [
      "headers ['id', 'title', 'release_year', 'country', 'duration', 'language', 'certification', 'gross', 'budget'] \n",
      "\n",
      " length of headers list 9\n"
     ]
    }
   ],
   "source": [
    "# Create headers column\n",
    "h = [\"id\",\t\"title\",\t\"release_year\",\t\"country\",\t\"duration\",\t\"language\",\t\"certification\",\t\"gross\",\t\"budget\"]\n",
    "print(f\"headers {h} \\n\\n length of headers list {len(h)}\")"
   ]
  },
  {
   "cell_type": "code",
   "execution_count": 7,
   "metadata": {},
   "outputs": [
    {
     "name": "stdout",
     "output_type": "stream",
     "text": [
      "(4968, 9)\n"
     ]
    }
   ],
   "source": [
    "# Add header column \n",
    "df1.columns = h\n",
    "print(df1.shape)"
   ]
  },
  {
   "cell_type": "code",
   "execution_count": 8,
   "metadata": {},
   "outputs": [
    {
     "name": "stdout",
     "output_type": "stream",
     "text": [
      "   id                                             title  release_year  \\\n",
      "0   1  Intolerance: Love's Struggle Throughout the Ages        1916.0   \n",
      "1   2                    Over the Hill to the Poorhouse        1920.0   \n",
      "2   3                                    The Big Parade        1925.0   \n",
      "3   4                                        Metropolis        1927.0   \n",
      "4   5                                     Pandora's Box        1929.0   \n",
      "\n",
      "   country  duration language certification      gross     budget  \n",
      "0      USA     123.0      NaN     Not Rated        NaN   385907.0  \n",
      "1      USA     110.0      NaN           NaN  3000000.0   100000.0  \n",
      "2      USA     151.0      NaN     Not Rated        NaN   245000.0  \n",
      "3  Germany     145.0   German     Not Rated    26435.0  6000000.0  \n",
      "4  Germany     110.0   German     Not Rated     9950.0        NaN  \n"
     ]
    }
   ],
   "source": [
    "# Show the head of the data\n",
    "print(df1.head())"
   ]
  },
  {
   "cell_type": "code",
   "execution_count": 9,
   "metadata": {},
   "outputs": [
    {
     "name": "stdout",
     "output_type": "stream",
     "text": [
      "Old Films DF : \n",
      "    0                                                 1       2        3  \\\n",
      "0  1  Intolerance: Love's Struggle Throughout the Ages  1916.0      USA   \n",
      "1  2                    Over the Hill to the Poorhouse  1920.0      USA   \n",
      "2  3                                    The Big Parade  1925.0      USA   \n",
      "3  4                                        Metropolis  1927.0  Germany   \n",
      "4  5                                     Pandora's Box  1929.0  Germany   \n",
      "\n",
      "       4       5          6          7          8  \n",
      "0  123.0     NaN  Not Rated        NaN   385907.0  \n",
      "1  110.0     NaN        NaN  3000000.0   100000.0  \n",
      "2  151.0     NaN  Not Rated        NaN   245000.0  \n",
      "3  145.0  German  Not Rated    26435.0  6000000.0  \n",
      "4  110.0  German  Not Rated     9950.0        NaN   \n",
      " \n",
      " ************************************************ \n",
      " \n",
      " New Films DF : \n",
      "    id                                             title  release_year  \\\n",
      "0   1  Intolerance: Love's Struggle Throughout the Ages        1916.0   \n",
      "1   2                    Over the Hill to the Poorhouse        1920.0   \n",
      "2   3                                    The Big Parade        1925.0   \n",
      "3   4                                        Metropolis        1927.0   \n",
      "4   5                                     Pandora's Box        1929.0   \n",
      "\n",
      "   country  duration language certification      gross     budget  \n",
      "0      USA     123.0      NaN     Not Rated        NaN   385907.0  \n",
      "1      USA     110.0      NaN           NaN  3000000.0   100000.0  \n",
      "2      USA     151.0      NaN     Not Rated        NaN   245000.0  \n",
      "3  Germany     145.0   German     Not Rated    26435.0  6000000.0  \n",
      "4  Germany     110.0   German     Not Rated     9950.0        NaN  \n"
     ]
    }
   ],
   "source": [
    "# See the diffrence 😁😁😁\n",
    "print(\n",
    "    \"Old Films DF : \\n\", d1.head(), \"\\n \\n\",\n",
    "    #Separation\n",
    "    \"****\"*12,\"\\n \\n\",\n",
    "    \"New Films DF : \\n\", df1.head())"
   ]
  },
  {
   "cell_type": "markdown",
   "metadata": {},
   "source": [
    "### Now we're gonna do this to 'll DFs"
   ]
  },
  {
   "cell_type": "code",
   "execution_count": 10,
   "metadata": {},
   "outputs": [],
   "source": [
    "#Creating copy of each DF \n",
    "df2 = d2.copy()\n",
    "df3 = d3.copy()\n",
    "df4 = d4.copy()\n",
    "\n",
    "#Create Columns \n",
    "h2 = [\"id\", \"name\",\t\"birthdate\", \"deathdate\"]\n",
    "h3 = [\"film_id\", \"num_user\", \"num_critic\", \"imdb_score\", \"num_votes\",\t\"facebook_likes\"]\n",
    "h4 = [\"id\",\t\"film_id\",\t\"person_id\",\t\"role\"]\n",
    "\n",
    "# Adding headers \n",
    "df2.columns = h2\n",
    "df3.columns = h3\n",
    "df4.columns = h4"
   ]
  },
  {
   "cell_type": "code",
   "execution_count": 11,
   "metadata": {},
   "outputs": [
    {
     "name": "stdout",
     "output_type": "stream",
     "text": [
      "Films DF : \n",
      "    id                                             title  release_year country  \\\n",
      "0   1  Intolerance: Love's Struggle Throughout the Ages        1916.0     USA   \n",
      "1   2                    Over the Hill to the Poorhouse        1920.0     USA   \n",
      "2   3                                    The Big Parade        1925.0     USA   \n",
      "\n",
      "   duration language certification      gross    budget  \n",
      "0     123.0      NaN     Not Rated        NaN  385907.0  \n",
      "1     110.0      NaN           NaN  3000000.0  100000.0  \n",
      "2     151.0      NaN     Not Rated        NaN  245000.0   \n",
      " ************************************************** \n",
      " People DF : \n",
      "    id                name   birthdate deathdate\n",
      "0   1             50 Cent  1975-07-06       NaN\n",
      "1   2  A. Michael Baldwin  1963-04-04       NaN\n",
      "2   3       A. Raven Cruz         NaN       NaN \n",
      " ************************************************** \n",
      " Reviews DF : \n",
      "    film_id  num_user  num_critic  imdb_score  num_votes  facebook_likes\n",
      "0     3934     588.0       432.0         7.1     203461           46000\n",
      "1     3405     285.0       267.0         6.4     149998               0\n",
      "2      478      65.0        29.0         3.2       8465             491 \n",
      " ************************************************** \n",
      " Roles DF : \n",
      "    id  film_id  person_id      role\n",
      "0   1        1       1630  director\n",
      "1   2        1       4843     actor\n",
      "2   3        1       5050     actor \n",
      " ************************************************** \n",
      "\n"
     ]
    }
   ],
   "source": [
    "# See DataFrames\n",
    "print(\"Films DF : \\n\", \n",
    "    df1.head(3), \n",
    "    \"\\n\", \"*****\"*10, \"\\n\",\n",
    "\n",
    "    \"People DF : \\n\", \n",
    "    df2.head(3), \n",
    "    \"\\n\", \"*****\"*10, \"\\n\",\n",
    "\n",
    "    \"Reviews DF : \\n\", \n",
    "    df3.head(3), \n",
    "    \"\\n\", \"*****\"*10, \"\\n\",\n",
    "\n",
    "    \"Roles DF : \\n\",\n",
    "    df4.head(3), \n",
    "    \"\\n\", \"*****\"*10, \"\\n\",)"
   ]
  },
  {
   "cell_type": "markdown",
   "metadata": {},
   "source": [
    "### Check the NaNs 🥹🥹"
   ]
  },
  {
   "cell_type": "code",
   "execution_count": 12,
   "metadata": {},
   "outputs": [
    {
     "name": "stdout",
     "output_type": "stream",
     "text": [
      "Films NaNs \n",
      " \n",
      " id                 0\n",
      "title              0\n",
      "release_year      42\n",
      "country            2\n",
      "duration          13\n",
      "language          11\n",
      "certification    302\n",
      "gross            810\n",
      "budget           430\n",
      "dtype: int64 \n",
      " \n",
      " ---------------------------------------------------------------------- \n",
      " \n",
      "\n",
      "Peoples NaNs \n",
      " \n",
      " id              0\n",
      "name            0\n",
      "birthdate    2245\n",
      "deathdate    7610\n",
      "dtype: int64 \n",
      " \n",
      " ---------------------------------------------------------------------- \n",
      " \n",
      "\n",
      "Reviews NaNs \n",
      " \n",
      " film_id            0\n",
      "num_user          19\n",
      "num_critic        46\n",
      "imdb_score         0\n",
      "num_votes          0\n",
      "facebook_likes     0\n",
      "dtype: int64 \n",
      " \n",
      " ---------------------------------------------------------------------- \n",
      " \n",
      "\n",
      "Roles NaNs \n",
      " \n",
      " id           0\n",
      "film_id      0\n",
      "person_id    0\n",
      "role         0\n",
      "dtype: int64 \n",
      " \n",
      " ---------------------------------------------------------------------- \n",
      " \n",
      "\n"
     ]
    }
   ],
   "source": [
    "# See NaNs\n",
    "print(\n",
    "    \"Films NaNs \\n \\n\", df1.isna().sum(), \"\\n \\n\", \"-------\" * 10, \"\\n \\n\")\n",
    "\n",
    "print(\n",
    "    \"Peoples NaNs \\n \\n\", df2.isna().sum(), \"\\n \\n\", \"-------\" * 10, \"\\n \\n\")\n",
    "\n",
    "print(\n",
    "    \"Reviews NaNs \\n \\n\", df3.isna().sum(), \"\\n \\n\", \"-------\" * 10, \"\\n \\n\")\n",
    "\n",
    "print(\n",
    "    \"Roles NaNs \\n \\n\", df4.isna().sum(), \"\\n \\n\", \"-------\" * 10, \"\\n \\n\")"
   ]
  },
  {
   "cell_type": "code",
   "execution_count": 13,
   "metadata": {},
   "outputs": [],
   "source": [
    "# Convert all NaNs into (999999) \n",
    "df1['release_year'] = df1['release_year'].fillna(999999)\n",
    "df1['country'] = df1['country'].fillna(999999)\n",
    "df1['duration'] = df1['duration'].fillna(999999)\n",
    "df1['language'] = df1['language'].fillna(999999)\n",
    "df1['certification'] = df1['certification'].fillna(999999)\n",
    "df1['gross'] = df1['gross'].fillna(999999)\n",
    "df1['budget'] = df1['budget'].fillna(999999)\n",
    "\n",
    "df2['birthdate'] = df2['birthdate'].fillna(999999)\n",
    "df2['deathdate'] = df2['deathdate'].fillna(999999)\n",
    "\n",
    "df3['num_user'] = df3['num_user'].fillna(999999)\n",
    "df3['num_critic'] = df3['num_critic'].fillna(999999)"
   ]
  },
  {
   "cell_type": "code",
   "execution_count": 14,
   "metadata": {},
   "outputs": [
    {
     "name": "stdout",
     "output_type": "stream",
     "text": [
      "<class 'pandas.core.frame.DataFrame'>\n",
      "RangeIndex: 4968 entries, 0 to 4967\n",
      "Data columns (total 9 columns):\n",
      " #   Column         Non-Null Count  Dtype  \n",
      "---  ------         --------------  -----  \n",
      " 0   id             4968 non-null   int64  \n",
      " 1   title          4968 non-null   object \n",
      " 2   release_year   4968 non-null   float64\n",
      " 3   country        4968 non-null   object \n",
      " 4   duration       4968 non-null   float64\n",
      " 5   language       4968 non-null   object \n",
      " 6   certification  4968 non-null   object \n",
      " 7   gross          4968 non-null   float64\n",
      " 8   budget         4968 non-null   float64\n",
      "dtypes: float64(4), int64(1), object(4)\n",
      "memory usage: 349.4+ KB\n",
      "<class 'pandas.core.frame.DataFrame'>\n",
      "RangeIndex: 8397 entries, 0 to 8396\n",
      "Data columns (total 4 columns):\n",
      " #   Column     Non-Null Count  Dtype \n",
      "---  ------     --------------  ----- \n",
      " 0   id         8397 non-null   int64 \n",
      " 1   name       8397 non-null   object\n",
      " 2   birthdate  8397 non-null   object\n",
      " 3   deathdate  8397 non-null   object\n",
      "dtypes: int64(1), object(3)\n",
      "memory usage: 262.5+ KB\n",
      "<class 'pandas.core.frame.DataFrame'>\n",
      "RangeIndex: 4968 entries, 0 to 4967\n",
      "Data columns (total 6 columns):\n",
      " #   Column          Non-Null Count  Dtype  \n",
      "---  ------          --------------  -----  \n",
      " 0   film_id         4968 non-null   int64  \n",
      " 1   num_user        4968 non-null   float64\n",
      " 2   num_critic      4968 non-null   float64\n",
      " 3   imdb_score      4968 non-null   float64\n",
      " 4   num_votes       4968 non-null   int64  \n",
      " 5   facebook_likes  4968 non-null   int64  \n",
      "dtypes: float64(3), int64(3)\n",
      "memory usage: 233.0 KB\n",
      "<class 'pandas.core.frame.DataFrame'>\n",
      "RangeIndex: 19791 entries, 0 to 19790\n",
      "Data columns (total 4 columns):\n",
      " #   Column     Non-Null Count  Dtype \n",
      "---  ------     --------------  ----- \n",
      " 0   id         19791 non-null  int64 \n",
      " 1   film_id    19791 non-null  int64 \n",
      " 2   person_id  19791 non-null  int64 \n",
      " 3   role       19791 non-null  object\n",
      "dtypes: int64(3), object(1)\n",
      "memory usage: 618.6+ KB\n",
      "None None None None\n"
     ]
    }
   ],
   "source": [
    "# Explore DataFrames variables\n",
    "print(df1.info(), df2.info(), df3.info(), df4.info())"
   ]
  },
  {
   "cell_type": "code",
   "execution_count": 15,
   "metadata": {},
   "outputs": [],
   "source": [
    "# convert all float variables except \"imdb_score\"\n",
    "df1[\"release_year\"]=df1[\"release_year\"].astype(int)\n",
    "df1[\"duration\"]=df1[\"duration\"].astype(int)\n",
    "df1[\"gross\"]=df1[\"gross\"].astype(int)\n",
    "df1[\"budget\"]=df1[\"budget\"].astype(int)\n",
    "\n",
    "df3[\"num_user\"]=df3[\"num_user\"].astype(int)\n",
    "df3[\"num_critic\"]=df3[\"num_critic\"].astype(int)"
   ]
  },
  {
   "cell_type": "code",
   "execution_count": 16,
   "metadata": {},
   "outputs": [
    {
     "name": "stdout",
     "output_type": "stream",
     "text": [
      "<class 'pandas.core.frame.DataFrame'>\n",
      "RangeIndex: 4968 entries, 0 to 4967\n",
      "Data columns (total 9 columns):\n",
      " #   Column         Non-Null Count  Dtype \n",
      "---  ------         --------------  ----- \n",
      " 0   id             4968 non-null   int64 \n",
      " 1   title          4968 non-null   object\n",
      " 2   release_year   4968 non-null   int32 \n",
      " 3   country        4968 non-null   object\n",
      " 4   duration       4968 non-null   int32 \n",
      " 5   language       4968 non-null   object\n",
      " 6   certification  4968 non-null   object\n",
      " 7   gross          4968 non-null   int32 \n",
      " 8   budget         4968 non-null   int32 \n",
      "dtypes: int32(4), int64(1), object(4)\n",
      "memory usage: 271.8+ KB\n",
      "<class 'pandas.core.frame.DataFrame'>\n",
      "RangeIndex: 8397 entries, 0 to 8396\n",
      "Data columns (total 4 columns):\n",
      " #   Column     Non-Null Count  Dtype \n",
      "---  ------     --------------  ----- \n",
      " 0   id         8397 non-null   int64 \n",
      " 1   name       8397 non-null   object\n",
      " 2   birthdate  8397 non-null   object\n",
      " 3   deathdate  8397 non-null   object\n",
      "dtypes: int64(1), object(3)\n",
      "memory usage: 262.5+ KB\n",
      "<class 'pandas.core.frame.DataFrame'>\n",
      "RangeIndex: 4968 entries, 0 to 4967\n",
      "Data columns (total 6 columns):\n",
      " #   Column          Non-Null Count  Dtype  \n",
      "---  ------          --------------  -----  \n",
      " 0   film_id         4968 non-null   int64  \n",
      " 1   num_user        4968 non-null   int32  \n",
      " 2   num_critic      4968 non-null   int32  \n",
      " 3   imdb_score      4968 non-null   float64\n",
      " 4   num_votes       4968 non-null   int64  \n",
      " 5   facebook_likes  4968 non-null   int64  \n",
      "dtypes: float64(1), int32(2), int64(3)\n",
      "memory usage: 194.2 KB\n",
      "<class 'pandas.core.frame.DataFrame'>\n",
      "RangeIndex: 19791 entries, 0 to 19790\n",
      "Data columns (total 4 columns):\n",
      " #   Column     Non-Null Count  Dtype \n",
      "---  ------     --------------  ----- \n",
      " 0   id         19791 non-null  int64 \n",
      " 1   film_id    19791 non-null  int64 \n",
      " 2   person_id  19791 non-null  int64 \n",
      " 3   role       19791 non-null  object\n",
      "dtypes: int64(3), object(1)\n",
      "memory usage: 618.6+ KB\n",
      "None None None None\n"
     ]
    }
   ],
   "source": [
    "# Let's check variables types again \n",
    "print(df1.info(), df2.info(), df3.info(), df4.info())"
   ]
  },
  {
   "cell_type": "code",
   "execution_count": 17,
   "metadata": {},
   "outputs": [
    {
     "name": "stdout",
     "output_type": "stream",
     "text": [
      "   id                                             title  release_year country  \\\n",
      "0   1  Intolerance: Love's Struggle Throughout the Ages          1916     USA   \n",
      "1   2                    Over the Hill to the Poorhouse          1920     USA   \n",
      "2   3                                    The Big Parade          1925     USA   \n",
      "\n",
      "   duration language certification    gross  budget  \n",
      "0       123   999999     Not Rated   999999  385907  \n",
      "1       110   999999        999999  3000000  100000  \n",
      "2       151   999999     Not Rated   999999  245000  \n"
     ]
    }
   ],
   "source": [
    "#Show the head of the 1st DF\n",
    "print(df1.head(3))"
   ]
  },
  {
   "cell_type": "code",
   "execution_count": 18,
   "metadata": {},
   "outputs": [
    {
     "name": "stdout",
     "output_type": "stream",
     "text": [
      "   id                name   birthdate deathdate\n",
      "0   1             50 Cent  1975-07-06    999999\n",
      "1   2  A. Michael Baldwin  1963-04-04    999999\n",
      "2   3       A. Raven Cruz      999999    999999\n",
      "3   4        A.J. Buckley  1978-02-09    999999\n",
      "4   5        A.J. DeLucia      999999    999999\n"
     ]
    }
   ],
   "source": [
    "#Show the head of the 2nd DF\n",
    "print(df2.head())"
   ]
  },
  {
   "cell_type": "code",
   "execution_count": 19,
   "metadata": {},
   "outputs": [],
   "source": [
    "# Back to the original DFs\n",
    "df1 = df1.replace(to_replace=999999, value='')\n",
    "df2 = df2.replace(to_replace=999999, value='')\n",
    "df3 = df3.replace(to_replace=999999, value='')"
   ]
  },
  {
   "cell_type": "markdown",
   "metadata": {},
   "source": [
    "### 🧹 DATA CLEANING 🧹"
   ]
  },
  {
   "cell_type": "code",
   "execution_count": 20,
   "metadata": {},
   "outputs": [
    {
     "name": "stdout",
     "output_type": "stream",
     "text": [
      "         id  title  release_year  country  duration  language  certification  \\\n",
      "0     False   True         False    False     False     False           True   \n",
      "1     False   True         False    False     False     False          False   \n",
      "2     False   True         False    False     False     False           True   \n",
      "3     False  False         False    False     False     False           True   \n",
      "4     False   True         False    False     False     False           True   \n",
      "...     ...    ...           ...      ...       ...       ...            ...   \n",
      "4963  False  False         False    False     False     False          False   \n",
      "4964  False  False         False    False     False     False          False   \n",
      "4965  False   True         False    False     False     False          False   \n",
      "4966  False   True         False    False     False     False          False   \n",
      "4967  False   True         False    False     False     False          False   \n",
      "\n",
      "      gross  budget  \n",
      "0     False   False  \n",
      "1     False   False  \n",
      "2     False   False  \n",
      "3     False   False  \n",
      "4     False   False  \n",
      "...     ...     ...  \n",
      "4963  False   False  \n",
      "4964  False   False  \n",
      "4965  False   False  \n",
      "4966  False   False  \n",
      "4967  False   False  \n",
      "\n",
      "[4968 rows x 9 columns]\n"
     ]
    }
   ],
   "source": [
    "# Define a function to detect unauthorized characters\n",
    "def contains_unauthorized_characters(text):\n",
    "    # Define the set of authorized characters\n",
    "    authorized_characters = set(\"ABCDEFGHIJKLMNOPQRSTUVWXYZabcdefghijklmnopqrstuvwxyz0123456789\")\n",
    "\n",
    "    # Check if the cell contains any characters not in the authorized set\n",
    "    return any(char not in authorized_characters for char in str(text))\n",
    "\n",
    "# Apply the function to the entire DataFrame\n",
    "unauthorized_character_mask = df1.applymap(contains_unauthorized_characters)\n",
    "\n",
    "# Now, unauthorized_character_mask is a DataFrame of boolean values\n",
    "print(unauthorized_character_mask)"
   ]
  },
  {
   "cell_type": "code",
   "execution_count": 21,
   "metadata": {},
   "outputs": [
    {
     "name": "stdout",
     "output_type": "stream",
     "text": [
      "id                  0\n",
      "title            3988\n",
      "release_year        0\n",
      "country            64\n",
      "duration            0\n",
      "language            0\n",
      "certification    1585\n",
      "gross               0\n",
      "budget              4\n",
      "dtype: int64\n"
     ]
    }
   ],
   "source": [
    "# Count unauthorized characters by column\n",
    "unauthorized_character_count = unauthorized_character_mask.sum()\n",
    "\n",
    "# Print the counts 😵 😵 😵‍💫 😵‍💫\n",
    "print(unauthorized_character_count)"
   ]
  },
  {
   "cell_type": "code",
   "execution_count": 22,
   "metadata": {},
   "outputs": [
    {
     "name": "stdout",
     "output_type": "stream",
     "text": [
      "        id                                      title release_year    country  \\\n",
      "0        1  IntoleranceLovesStruggleThroughouttheAges         1916        USA   \n",
      "1        2                  OvertheHilltothePoorhouse         1920        USA   \n",
      "2        3                               TheBigParade         1925        USA   \n",
      "3        4                                 Metropolis         1927    Germany   \n",
      "4        5                                PandorasBox         1929    Germany   \n",
      "...    ...                                        ...          ...        ...   \n",
      "4963  4964                                Unforgotten                      UK   \n",
      "4964  4965                                      Wings                     USA   \n",
      "4965  4966                                  WolfCreek               Australia   \n",
      "4966  4967                           WutheringHeights                      UK   \n",
      "4967  4968                         YuGiOhDuelMonsters                   Japan   \n",
      "\n",
      "     duration  language certification    gross   budget  \n",
      "0         123                NotRated            385907  \n",
      "1         110                          3000000   100000  \n",
      "2         151                NotRated            245000  \n",
      "3         145    German      NotRated    26435  6000000  \n",
      "4         110    German      NotRated     9950           \n",
      "...       ...       ...           ...      ...      ...  \n",
      "4963       45   English                                  \n",
      "4964       30   English                                  \n",
      "4965            English                                  \n",
      "4966      142   English                                  \n",
      "4967       24  Japanese                                  \n",
      "\n",
      "[4968 rows x 9 columns]\n"
     ]
    }
   ],
   "source": [
    "# Define a function to remove unauthorized characters\n",
    "def clean_text(text):\n",
    "    text = re.sub(r'[^A-Za-z0-9]+', '', str(text))  # Convert to string here\n",
    "    return text\n",
    "\n",
    "# List of columns to clean\n",
    "columns_to_clean = df1.columns\n",
    "\n",
    "# Apply the function to the selected columns\n",
    "df1[columns_to_clean] = df1[columns_to_clean].applymap(clean_text)\n",
    "print(df1)"
   ]
  },
  {
   "cell_type": "code",
   "execution_count": 23,
   "metadata": {},
   "outputs": [
    {
     "name": "stdout",
     "output_type": "stream",
     "text": [
      "id               0\n",
      "title            0\n",
      "release_year     0\n",
      "country          0\n",
      "duration         0\n",
      "language         0\n",
      "certification    0\n",
      "gross            0\n",
      "budget           0\n",
      "dtype: int64\n"
     ]
    }
   ],
   "source": [
    "#check unauthorized character\n",
    "check_unauthorized_character = df1.applymap(contains_unauthorized_characters).sum()\n",
    "print(check_unauthorized_character)"
   ]
  },
  {
   "cell_type": "markdown",
   "metadata": {},
   "source": [
    "### Do the same for all the other DBS 😅😅"
   ]
  },
  {
   "cell_type": "code",
   "execution_count": 24,
   "metadata": {},
   "outputs": [
    {
     "name": "stdout",
     "output_type": "stream",
     "text": [
      "Films NaNs \n",
      " \n",
      " id              0\n",
      "name         8349\n",
      "birthdate    6152\n",
      "deathdate     787\n",
      "dtype: int64 \n",
      " \n",
      " ---------------------------------------------------------------------- \n",
      " \n",
      "\n",
      "Peoples NaNs \n",
      " \n",
      " film_id              0\n",
      "num_user             0\n",
      "num_critic           0\n",
      "imdb_score        4968\n",
      "num_votes            0\n",
      "facebook_likes       0\n",
      "dtype: int64 \n",
      " \n",
      " ---------------------------------------------------------------------- \n",
      " \n",
      "\n",
      "Reviews NaNs \n",
      " \n",
      " id           0\n",
      "film_id      0\n",
      "person_id    0\n",
      "role         0\n",
      "dtype: int64 \n",
      " \n",
      " ---------------------------------------------------------------------- \n",
      " \n",
      "\n"
     ]
    }
   ],
   "source": [
    "#check unauthorized character in the other DBS\n",
    "check_df2 = df2.applymap(contains_unauthorized_characters).sum()\n",
    "check_df3 = df3.applymap(contains_unauthorized_characters).sum()\n",
    "check_df4 = df4.applymap(contains_unauthorized_characters).sum()\n",
    "\n",
    "# See unauthorized character in the DBS\n",
    "print(\n",
    "    \"Films NaNs \\n \\n\", check_df2, \"\\n \\n\", \"-------\" * 10, \"\\n \\n\")\n",
    "\n",
    "print(\n",
    "    \"Peoples NaNs \\n \\n\", check_df3, \"\\n \\n\", \"-------\" * 10, \"\\n \\n\")\n",
    "\n",
    "print(\n",
    "    \"Reviews NaNs \\n \\n\", check_df4, \"\\n \\n\", \"-------\" * 10, \"\\n \\n\")"
   ]
  },
  {
   "cell_type": "markdown",
   "metadata": {},
   "source": [
    "### AS we can see the last DF do not need any cleaning so we clean the 2nd and the 3rd DFs"
   ]
  },
  {
   "cell_type": "code",
   "execution_count": 25,
   "metadata": {},
   "outputs": [
    {
     "name": "stdout",
     "output_type": "stream",
     "text": [
      "        id             name birthdate deathdate\n",
      "0        1           50Cent  19750706          \n",
      "1        2  AMichaelBaldwin  19630404          \n",
      "2        3       ARavenCruz                    \n",
      "3        4        AJBuckley  19780209          \n",
      "4        5        AJDeLucia                    \n",
      "...    ...              ...       ...       ...\n",
      "8392  8393       ZohraSegal  19120427  20140710\n",
      "8393  8394   ZooeyDeschanel  19800117          \n",
      "8394  8395     ZoranLisinac                    \n",
      "8395  8396     ZubaidaSahar                    \n",
      "8396  8397     ZuhairHaddad                    \n",
      "\n",
      "[8397 rows x 4 columns]\n",
      " \n",
      "-*-*-*-*-*-*-*-*-*-*-*-*-*-*-*-*-*-*-*-*-*-*-*-*-*-*-*-*-*-*-*-*-*-*-*-*-*-*-*-*\n",
      " \n",
      "     film_id num_user num_critic imdb_score num_votes facebook_likes\n",
      "0       3934      588        432   70999999    203461          46000\n",
      "1       3405      285        267   64000001    149998              0\n",
      "2        478       65         29  320000005      8465            491\n",
      "3         74       83         25   75999999      7071            930\n",
      "4       1254     1437        224         80    241030          13000\n",
      "...      ...      ...        ...        ...       ...            ...\n",
      "4963    4801        2          6         70        75            121\n",
      "4964    4264      514        488         70    181472          58000\n",
      "4965    4356       85        119  619999981     29738          12000\n",
      "4966     430      118         38   59000001     29591              0\n",
      "4967      29     1123        242  860000038    387508          23000\n",
      "\n",
      "[4968 rows x 6 columns]\n"
     ]
    }
   ],
   "source": [
    "# Clean the 2nd and the 3rd DF\n",
    "df2[df2.columns] = df2[df2.columns].applymap(clean_text)\n",
    "print(df2, end='\\n \\n')\n",
    "\n",
    "print(\"-*-*-*-*\"*10, end='\\n \\n')\n",
    "\n",
    "df3[df3.columns] = df3[df3.columns].applymap(clean_text)\n",
    "print(df3)"
   ]
  },
  {
   "cell_type": "code",
   "execution_count": 26,
   "metadata": {},
   "outputs": [
    {
     "name": "stdout",
     "output_type": "stream",
     "text": [
      "id           0\n",
      "name         0\n",
      "birthdate    0\n",
      "deathdate    0\n",
      "dtype: int64\n",
      " \n",
      "-*-*-*-*-*-*-*-*-*-*-*-*-*-*-*-*-*-*-*-*-*-*-*-*-*-*-*-*-*-*-*-*-*-*-*-*-*-*-*-*\n",
      " \n",
      "film_id           0\n",
      "num_user          0\n",
      "num_critic        0\n",
      "imdb_score        0\n",
      "num_votes         0\n",
      "facebook_likes    0\n",
      "dtype: int64\n"
     ]
    }
   ],
   "source": [
    "# Check unauthorized character in the 2nd & the 3rd DFs\n",
    "print(df2.applymap(contains_unauthorized_characters).sum(), end='\\n \\n')\n",
    "\n",
    "print(\"-*-*-*-*\"*10, end='\\n \\n')\n",
    "\n",
    "print(df3.applymap(contains_unauthorized_characters).sum())\n"
   ]
  },
  {
   "cell_type": "code",
   "execution_count": 27,
   "metadata": {},
   "outputs": [
    {
     "name": "stdout",
     "output_type": "stream",
     "text": [
      "id           0\n",
      "name         0\n",
      "birthdate    0\n",
      "deathdate    0\n",
      "dtype: int64\n"
     ]
    }
   ],
   "source": [
    "print(df2.isna().sum())"
   ]
  },
  {
   "cell_type": "markdown",
   "metadata": {},
   "source": [
    "### DFs EXPORT 🎰"
   ]
  },
  {
   "cell_type": "code",
   "execution_count": 28,
   "metadata": {},
   "outputs": [],
   "source": [
    "# Convert all DFs Row into List of tuples\n",
    "\n",
    "def tuple_conv (data):\n",
    "    li = []\n",
    "    for i in range(len(data)):\n",
    "        x = tuple(data.iloc[i]) \n",
    "        li.append(x)\n",
    "    return li\n",
    "\n",
    "f_inst = tuple_conv(df1)\n",
    "p_inst = tuple_conv(df2)\n",
    "rv_inst = tuple_conv(df3)\n",
    "ro_inst = tuple_conv(df4)\n"
   ]
  },
  {
   "cell_type": "code",
   "execution_count": 29,
   "metadata": {},
   "outputs": [
    {
     "data": {
      "text/plain": [
       "<function TextIOWrapper.close()>"
      ]
     },
     "execution_count": 29,
     "metadata": {},
     "output_type": "execute_result"
    }
   ],
   "source": [
    " # Save them all in seperate files\n",
    "\n",
    "file = open(\"films_insert.txt\", \"w\")\n",
    "\n",
    "for tuple in f_inst : \n",
    "    file.write(str(tuple) + ',' + '\\n')\n",
    "\n",
    "file.close\n",
    "\n",
    "file = open(\"people_insert.txt\", \"w\")\n",
    "\n",
    "for tuple in p_inst : \n",
    "    file.write(str(tuple) + ',' + '\\n')\n",
    "\n",
    "file.close\n",
    "\n",
    "file = open(\"reviews_insert.txt\", \"w\")\n",
    "\n",
    "for tuple in rv_inst : \n",
    "    file.write(str(tuple) + ',' + '\\n')\n",
    "\n",
    "file.close\n",
    "\n",
    "file = open(\"roles_insert.txt\", \"w\")\n",
    "\n",
    "for tuple in ro_inst : \n",
    "    file.write(str(tuple) + ',' + '\\n')\n",
    "\n",
    "file.close"
   ]
  }
 ],
 "metadata": {
  "kernelspec": {
   "display_name": "base",
   "language": "python",
   "name": "python3"
  },
  "language_info": {
   "codemirror_mode": {
    "name": "ipython",
    "version": 3
   },
   "file_extension": ".py",
   "mimetype": "text/x-python",
   "name": "python",
   "nbconvert_exporter": "python",
   "pygments_lexer": "ipython3",
   "version": "3.9.12"
  }
 },
 "nbformat": 4,
 "nbformat_minor": 2
}
